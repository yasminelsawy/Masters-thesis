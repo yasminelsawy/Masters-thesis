{
  "cells": [
    {
      "cell_type": "code",
      "source": [
        "!pip install pm4py\n",
        "!pip install shap"
      ],
      "metadata": {
        "id": "-MdPnTCtB_Ed",
        "colab": {
          "base_uri": "https://localhost:8080/"
        },
        "outputId": "18129524-b54f-437a-fd63-f9ef944851bb"
      },
      "id": "-MdPnTCtB_Ed",
      "execution_count": null,
      "outputs": [
        {
          "output_type": "stream",
          "name": "stdout",
          "text": [
            "Collecting pm4py\n",
            "  Downloading pm4py-2.2.19.2-py3-none-any.whl (1.8 MB)\n",
            "\u001b[?25l\r\u001b[K     |▏                               | 10 kB 19.0 MB/s eta 0:00:01\r\u001b[K     |▍                               | 20 kB 25.3 MB/s eta 0:00:01\r\u001b[K     |▌                               | 30 kB 20.1 MB/s eta 0:00:01\r\u001b[K     |▊                               | 40 kB 16.5 MB/s eta 0:00:01\r\u001b[K     |█                               | 51 kB 6.7 MB/s eta 0:00:01\r\u001b[K     |█                               | 61 kB 7.8 MB/s eta 0:00:01\r\u001b[K     |█▎                              | 71 kB 8.8 MB/s eta 0:00:01\r\u001b[K     |█▌                              | 81 kB 9.6 MB/s eta 0:00:01\r\u001b[K     |█▋                              | 92 kB 10.7 MB/s eta 0:00:01\r\u001b[K     |█▉                              | 102 kB 8.8 MB/s eta 0:00:01\r\u001b[K     |██                              | 112 kB 8.8 MB/s eta 0:00:01\r\u001b[K     |██▏                             | 122 kB 8.8 MB/s eta 0:00:01\r\u001b[K     |██▍                             | 133 kB 8.8 MB/s eta 0:00:01\r\u001b[K     |██▋                             | 143 kB 8.8 MB/s eta 0:00:01\r\u001b[K     |██▊                             | 153 kB 8.8 MB/s eta 0:00:01\r\u001b[K     |███                             | 163 kB 8.8 MB/s eta 0:00:01\r\u001b[K     |███▏                            | 174 kB 8.8 MB/s eta 0:00:01\r\u001b[K     |███▎                            | 184 kB 8.8 MB/s eta 0:00:01\r\u001b[K     |███▌                            | 194 kB 8.8 MB/s eta 0:00:01\r\u001b[K     |███▊                            | 204 kB 8.8 MB/s eta 0:00:01\r\u001b[K     |███▉                            | 215 kB 8.8 MB/s eta 0:00:01\r\u001b[K     |████                            | 225 kB 8.8 MB/s eta 0:00:01\r\u001b[K     |████▎                           | 235 kB 8.8 MB/s eta 0:00:01\r\u001b[K     |████▍                           | 245 kB 8.8 MB/s eta 0:00:01\r\u001b[K     |████▋                           | 256 kB 8.8 MB/s eta 0:00:01\r\u001b[K     |████▉                           | 266 kB 8.8 MB/s eta 0:00:01\r\u001b[K     |█████                           | 276 kB 8.8 MB/s eta 0:00:01\r\u001b[K     |█████▏                          | 286 kB 8.8 MB/s eta 0:00:01\r\u001b[K     |█████▍                          | 296 kB 8.8 MB/s eta 0:00:01\r\u001b[K     |█████▌                          | 307 kB 8.8 MB/s eta 0:00:01\r\u001b[K     |█████▊                          | 317 kB 8.8 MB/s eta 0:00:01\r\u001b[K     |██████                          | 327 kB 8.8 MB/s eta 0:00:01\r\u001b[K     |██████                          | 337 kB 8.8 MB/s eta 0:00:01\r\u001b[K     |██████▎                         | 348 kB 8.8 MB/s eta 0:00:01\r\u001b[K     |██████▌                         | 358 kB 8.8 MB/s eta 0:00:01\r\u001b[K     |██████▋                         | 368 kB 8.8 MB/s eta 0:00:01\r\u001b[K     |██████▉                         | 378 kB 8.8 MB/s eta 0:00:01\r\u001b[K     |███████                         | 389 kB 8.8 MB/s eta 0:00:01\r\u001b[K     |███████▏                        | 399 kB 8.8 MB/s eta 0:00:01\r\u001b[K     |███████▍                        | 409 kB 8.8 MB/s eta 0:00:01\r\u001b[K     |███████▋                        | 419 kB 8.8 MB/s eta 0:00:01\r\u001b[K     |███████▊                        | 430 kB 8.8 MB/s eta 0:00:01\r\u001b[K     |████████                        | 440 kB 8.8 MB/s eta 0:00:01\r\u001b[K     |████████▏                       | 450 kB 8.8 MB/s eta 0:00:01\r\u001b[K     |████████▎                       | 460 kB 8.8 MB/s eta 0:00:01\r\u001b[K     |████████▌                       | 471 kB 8.8 MB/s eta 0:00:01\r\u001b[K     |████████▊                       | 481 kB 8.8 MB/s eta 0:00:01\r\u001b[K     |████████▉                       | 491 kB 8.8 MB/s eta 0:00:01\r\u001b[K     |█████████                       | 501 kB 8.8 MB/s eta 0:00:01\r\u001b[K     |█████████▎                      | 512 kB 8.8 MB/s eta 0:00:01\r\u001b[K     |█████████▍                      | 522 kB 8.8 MB/s eta 0:00:01\r\u001b[K     |█████████▋                      | 532 kB 8.8 MB/s eta 0:00:01\r\u001b[K     |█████████▉                      | 542 kB 8.8 MB/s eta 0:00:01\r\u001b[K     |██████████                      | 552 kB 8.8 MB/s eta 0:00:01\r\u001b[K     |██████████▏                     | 563 kB 8.8 MB/s eta 0:00:01\r\u001b[K     |██████████▍                     | 573 kB 8.8 MB/s eta 0:00:01\r\u001b[K     |██████████▌                     | 583 kB 8.8 MB/s eta 0:00:01\r\u001b[K     |██████████▊                     | 593 kB 8.8 MB/s eta 0:00:01\r\u001b[K     |███████████                     | 604 kB 8.8 MB/s eta 0:00:01\r\u001b[K     |███████████                     | 614 kB 8.8 MB/s eta 0:00:01\r\u001b[K     |███████████▎                    | 624 kB 8.8 MB/s eta 0:00:01\r\u001b[K     |███████████▌                    | 634 kB 8.8 MB/s eta 0:00:01\r\u001b[K     |███████████▋                    | 645 kB 8.8 MB/s eta 0:00:01\r\u001b[K     |███████████▉                    | 655 kB 8.8 MB/s eta 0:00:01\r\u001b[K     |████████████                    | 665 kB 8.8 MB/s eta 0:00:01\r\u001b[K     |████████████▏                   | 675 kB 8.8 MB/s eta 0:00:01\r\u001b[K     |████████████▍                   | 686 kB 8.8 MB/s eta 0:00:01\r\u001b[K     |████████████▋                   | 696 kB 8.8 MB/s eta 0:00:01\r\u001b[K     |████████████▊                   | 706 kB 8.8 MB/s eta 0:00:01\r\u001b[K     |█████████████                   | 716 kB 8.8 MB/s eta 0:00:01\r\u001b[K     |█████████████▏                  | 727 kB 8.8 MB/s eta 0:00:01\r\u001b[K     |█████████████▎                  | 737 kB 8.8 MB/s eta 0:00:01\r\u001b[K     |█████████████▌                  | 747 kB 8.8 MB/s eta 0:00:01\r\u001b[K     |█████████████▊                  | 757 kB 8.8 MB/s eta 0:00:01\r\u001b[K     |█████████████▉                  | 768 kB 8.8 MB/s eta 0:00:01\r\u001b[K     |██████████████                  | 778 kB 8.8 MB/s eta 0:00:01\r\u001b[K     |██████████████▎                 | 788 kB 8.8 MB/s eta 0:00:01\r\u001b[K     |██████████████▍                 | 798 kB 8.8 MB/s eta 0:00:01\r\u001b[K     |██████████████▋                 | 808 kB 8.8 MB/s eta 0:00:01\r\u001b[K     |██████████████▉                 | 819 kB 8.8 MB/s eta 0:00:01\r\u001b[K     |███████████████                 | 829 kB 8.8 MB/s eta 0:00:01\r\u001b[K     |███████████████▏                | 839 kB 8.8 MB/s eta 0:00:01\r\u001b[K     |███████████████▍                | 849 kB 8.8 MB/s eta 0:00:01\r\u001b[K     |███████████████▌                | 860 kB 8.8 MB/s eta 0:00:01\r\u001b[K     |███████████████▊                | 870 kB 8.8 MB/s eta 0:00:01\r\u001b[K     |████████████████                | 880 kB 8.8 MB/s eta 0:00:01\r\u001b[K     |████████████████                | 890 kB 8.8 MB/s eta 0:00:01\r\u001b[K     |████████████████▎               | 901 kB 8.8 MB/s eta 0:00:01\r\u001b[K     |████████████████▌               | 911 kB 8.8 MB/s eta 0:00:01\r\u001b[K     |████████████████▋               | 921 kB 8.8 MB/s eta 0:00:01\r\u001b[K     |████████████████▉               | 931 kB 8.8 MB/s eta 0:00:01\r\u001b[K     |█████████████████               | 942 kB 8.8 MB/s eta 0:00:01\r\u001b[K     |█████████████████▏              | 952 kB 8.8 MB/s eta 0:00:01\r\u001b[K     |█████████████████▍              | 962 kB 8.8 MB/s eta 0:00:01\r\u001b[K     |█████████████████▋              | 972 kB 8.8 MB/s eta 0:00:01\r\u001b[K     |█████████████████▊              | 983 kB 8.8 MB/s eta 0:00:01\r\u001b[K     |██████████████████              | 993 kB 8.8 MB/s eta 0:00:01\r\u001b[K     |██████████████████▏             | 1.0 MB 8.8 MB/s eta 0:00:01\r\u001b[K     |██████████████████▎             | 1.0 MB 8.8 MB/s eta 0:00:01\r\u001b[K     |██████████████████▌             | 1.0 MB 8.8 MB/s eta 0:00:01\r\u001b[K     |██████████████████▊             | 1.0 MB 8.8 MB/s eta 0:00:01\r\u001b[K     |██████████████████▉             | 1.0 MB 8.8 MB/s eta 0:00:01\r\u001b[K     |███████████████████             | 1.1 MB 8.8 MB/s eta 0:00:01\r\u001b[K     |███████████████████▎            | 1.1 MB 8.8 MB/s eta 0:00:01\r\u001b[K     |███████████████████▍            | 1.1 MB 8.8 MB/s eta 0:00:01\r\u001b[K     |███████████████████▋            | 1.1 MB 8.8 MB/s eta 0:00:01\r\u001b[K     |███████████████████▉            | 1.1 MB 8.8 MB/s eta 0:00:01\r\u001b[K     |████████████████████            | 1.1 MB 8.8 MB/s eta 0:00:01\r\u001b[K     |████████████████████▏           | 1.1 MB 8.8 MB/s eta 0:00:01\r\u001b[K     |████████████████████▍           | 1.1 MB 8.8 MB/s eta 0:00:01\r\u001b[K     |████████████████████▌           | 1.1 MB 8.8 MB/s eta 0:00:01\r\u001b[K     |████████████████████▊           | 1.1 MB 8.8 MB/s eta 0:00:01\r\u001b[K     |████████████████████▉           | 1.2 MB 8.8 MB/s eta 0:00:01\r\u001b[K     |█████████████████████           | 1.2 MB 8.8 MB/s eta 0:00:01\r\u001b[K     |█████████████████████▎          | 1.2 MB 8.8 MB/s eta 0:00:01\r\u001b[K     |█████████████████████▍          | 1.2 MB 8.8 MB/s eta 0:00:01\r\u001b[K     |█████████████████████▋          | 1.2 MB 8.8 MB/s eta 0:00:01\r\u001b[K     |█████████████████████▉          | 1.2 MB 8.8 MB/s eta 0:00:01\r\u001b[K     |██████████████████████          | 1.2 MB 8.8 MB/s eta 0:00:01\r\u001b[K     |██████████████████████▏         | 1.2 MB 8.8 MB/s eta 0:00:01\r\u001b[K     |██████████████████████▍         | 1.2 MB 8.8 MB/s eta 0:00:01\r\u001b[K     |██████████████████████▌         | 1.2 MB 8.8 MB/s eta 0:00:01\r\u001b[K     |██████████████████████▊         | 1.3 MB 8.8 MB/s eta 0:00:01\r\u001b[K     |███████████████████████         | 1.3 MB 8.8 MB/s eta 0:00:01\r\u001b[K     |███████████████████████         | 1.3 MB 8.8 MB/s eta 0:00:01\r\u001b[K     |███████████████████████▎        | 1.3 MB 8.8 MB/s eta 0:00:01\r\u001b[K     |███████████████████████▌        | 1.3 MB 8.8 MB/s eta 0:00:01\r\u001b[K     |███████████████████████▋        | 1.3 MB 8.8 MB/s eta 0:00:01\r\u001b[K     |███████████████████████▉        | 1.3 MB 8.8 MB/s eta 0:00:01\r\u001b[K     |████████████████████████        | 1.3 MB 8.8 MB/s eta 0:00:01\r\u001b[K     |████████████████████████▏       | 1.3 MB 8.8 MB/s eta 0:00:01\r\u001b[K     |████████████████████████▍       | 1.4 MB 8.8 MB/s eta 0:00:01\r\u001b[K     |████████████████████████▋       | 1.4 MB 8.8 MB/s eta 0:00:01\r\u001b[K     |████████████████████████▊       | 1.4 MB 8.8 MB/s eta 0:00:01\r\u001b[K     |█████████████████████████       | 1.4 MB 8.8 MB/s eta 0:00:01\r\u001b[K     |█████████████████████████▏      | 1.4 MB 8.8 MB/s eta 0:00:01\r\u001b[K     |█████████████████████████▎      | 1.4 MB 8.8 MB/s eta 0:00:01\r\u001b[K     |█████████████████████████▌      | 1.4 MB 8.8 MB/s eta 0:00:01\r\u001b[K     |█████████████████████████▊      | 1.4 MB 8.8 MB/s eta 0:00:01\r\u001b[K     |█████████████████████████▉      | 1.4 MB 8.8 MB/s eta 0:00:01\r\u001b[K     |██████████████████████████      | 1.4 MB 8.8 MB/s eta 0:00:01\r\u001b[K     |██████████████████████████▎     | 1.5 MB 8.8 MB/s eta 0:00:01\r\u001b[K     |██████████████████████████▍     | 1.5 MB 8.8 MB/s eta 0:00:01\r\u001b[K     |██████████████████████████▋     | 1.5 MB 8.8 MB/s eta 0:00:01\r\u001b[K     |██████████████████████████▉     | 1.5 MB 8.8 MB/s eta 0:00:01\r\u001b[K     |███████████████████████████     | 1.5 MB 8.8 MB/s eta 0:00:01\r\u001b[K     |███████████████████████████▏    | 1.5 MB 8.8 MB/s eta 0:00:01\r\u001b[K     |███████████████████████████▍    | 1.5 MB 8.8 MB/s eta 0:00:01\r\u001b[K     |███████████████████████████▌    | 1.5 MB 8.8 MB/s eta 0:00:01\r\u001b[K     |███████████████████████████▊    | 1.5 MB 8.8 MB/s eta 0:00:01\r\u001b[K     |████████████████████████████    | 1.5 MB 8.8 MB/s eta 0:00:01\r\u001b[K     |████████████████████████████    | 1.6 MB 8.8 MB/s eta 0:00:01\r\u001b[K     |████████████████████████████▎   | 1.6 MB 8.8 MB/s eta 0:00:01\r\u001b[K     |████████████████████████████▌   | 1.6 MB 8.8 MB/s eta 0:00:01\r\u001b[K     |████████████████████████████▋   | 1.6 MB 8.8 MB/s eta 0:00:01\r\u001b[K     |████████████████████████████▉   | 1.6 MB 8.8 MB/s eta 0:00:01\r\u001b[K     |█████████████████████████████   | 1.6 MB 8.8 MB/s eta 0:00:01\r\u001b[K     |█████████████████████████████▏  | 1.6 MB 8.8 MB/s eta 0:00:01\r\u001b[K     |█████████████████████████████▍  | 1.6 MB 8.8 MB/s eta 0:00:01\r\u001b[K     |█████████████████████████████▋  | 1.6 MB 8.8 MB/s eta 0:00:01\r\u001b[K     |█████████████████████████████▊  | 1.6 MB 8.8 MB/s eta 0:00:01\r\u001b[K     |██████████████████████████████  | 1.7 MB 8.8 MB/s eta 0:00:01\r\u001b[K     |██████████████████████████████▏ | 1.7 MB 8.8 MB/s eta 0:00:01\r\u001b[K     |██████████████████████████████▎ | 1.7 MB 8.8 MB/s eta 0:00:01\r\u001b[K     |██████████████████████████████▌ | 1.7 MB 8.8 MB/s eta 0:00:01\r\u001b[K     |██████████████████████████████▊ | 1.7 MB 8.8 MB/s eta 0:00:01\r\u001b[K     |██████████████████████████████▉ | 1.7 MB 8.8 MB/s eta 0:00:01\r\u001b[K     |███████████████████████████████ | 1.7 MB 8.8 MB/s eta 0:00:01\r\u001b[K     |███████████████████████████████▎| 1.7 MB 8.8 MB/s eta 0:00:01\r\u001b[K     |███████████████████████████████▍| 1.7 MB 8.8 MB/s eta 0:00:01\r\u001b[K     |███████████████████████████████▋| 1.8 MB 8.8 MB/s eta 0:00:01\r\u001b[K     |███████████████████████████████▉| 1.8 MB 8.8 MB/s eta 0:00:01\r\u001b[K     |████████████████████████████████| 1.8 MB 8.8 MB/s eta 0:00:01\r\u001b[K     |████████████████████████████████| 1.8 MB 8.8 MB/s \n",
            "\u001b[?25hRequirement already satisfied: pytz in /usr/local/lib/python3.7/dist-packages (from pm4py) (2018.9)\n",
            "Requirement already satisfied: intervaltree in /usr/local/lib/python3.7/dist-packages (from pm4py) (2.1.0)\n",
            "Requirement already satisfied: sympy in /usr/local/lib/python3.7/dist-packages (from pm4py) (1.7.1)\n",
            "Requirement already satisfied: graphviz in /usr/local/lib/python3.7/dist-packages (from pm4py) (0.10.1)\n",
            "Requirement already satisfied: cvxopt in /usr/local/lib/python3.7/dist-packages (from pm4py) (1.2.7)\n",
            "Collecting jsonpickle\n",
            "  Downloading jsonpickle-2.1.0-py2.py3-none-any.whl (38 kB)\n",
            "Requirement already satisfied: pandas>=1.1.5 in /usr/local/lib/python3.7/dist-packages (from pm4py) (1.3.5)\n",
            "Collecting deprecation\n",
            "  Downloading deprecation-2.1.0-py2.py3-none-any.whl (11 kB)\n",
            "Requirement already satisfied: lxml in /usr/local/lib/python3.7/dist-packages (from pm4py) (4.2.6)\n",
            "Requirement already satisfied: numpy>=1.19.5 in /usr/local/lib/python3.7/dist-packages (from pm4py) (1.21.5)\n",
            "Collecting pyvis\n",
            "  Downloading pyvis-0.1.9-py3-none-any.whl (23 kB)\n",
            "Requirement already satisfied: tqdm in /usr/local/lib/python3.7/dist-packages (from pm4py) (4.63.0)\n",
            "Requirement already satisfied: matplotlib in /usr/local/lib/python3.7/dist-packages (from pm4py) (3.2.2)\n",
            "Requirement already satisfied: scipy in /usr/local/lib/python3.7/dist-packages (from pm4py) (1.4.1)\n",
            "Requirement already satisfied: pydotplus in /usr/local/lib/python3.7/dist-packages (from pm4py) (2.0.2)\n",
            "Requirement already satisfied: networkx in /usr/local/lib/python3.7/dist-packages (from pm4py) (2.6.3)\n",
            "Collecting stringdist\n",
            "  Downloading StringDist-1.0.9.tar.gz (7.4 kB)\n",
            "Requirement already satisfied: python-dateutil>=2.7.3 in /usr/local/lib/python3.7/dist-packages (from pandas>=1.1.5->pm4py) (2.8.2)\n",
            "Requirement already satisfied: six>=1.5 in /usr/local/lib/python3.7/dist-packages (from python-dateutil>=2.7.3->pandas>=1.1.5->pm4py) (1.15.0)\n",
            "Requirement already satisfied: packaging in /usr/local/lib/python3.7/dist-packages (from deprecation->pm4py) (21.3)\n",
            "Requirement already satisfied: sortedcontainers in /usr/local/lib/python3.7/dist-packages (from intervaltree->pm4py) (2.4.0)\n",
            "Requirement already satisfied: importlib-metadata in /usr/local/lib/python3.7/dist-packages (from jsonpickle->pm4py) (4.11.3)\n",
            "Requirement already satisfied: typing-extensions>=3.6.4 in /usr/local/lib/python3.7/dist-packages (from importlib-metadata->jsonpickle->pm4py) (3.10.0.2)\n",
            "Requirement already satisfied: zipp>=0.5 in /usr/local/lib/python3.7/dist-packages (from importlib-metadata->jsonpickle->pm4py) (3.7.0)\n",
            "Requirement already satisfied: cycler>=0.10 in /usr/local/lib/python3.7/dist-packages (from matplotlib->pm4py) (0.11.0)\n",
            "Requirement already satisfied: pyparsing!=2.0.4,!=2.1.2,!=2.1.6,>=2.0.1 in /usr/local/lib/python3.7/dist-packages (from matplotlib->pm4py) (3.0.7)\n",
            "Requirement already satisfied: kiwisolver>=1.0.1 in /usr/local/lib/python3.7/dist-packages (from matplotlib->pm4py) (1.4.0)\n",
            "Requirement already satisfied: jinja2>=2.9.6 in /usr/local/lib/python3.7/dist-packages (from pyvis->pm4py) (2.11.3)\n",
            "Requirement already satisfied: ipython>=5.3.0 in /usr/local/lib/python3.7/dist-packages (from pyvis->pm4py) (5.5.0)\n",
            "Requirement already satisfied: traitlets>=4.2 in /usr/local/lib/python3.7/dist-packages (from ipython>=5.3.0->pyvis->pm4py) (5.1.1)\n",
            "Requirement already satisfied: pygments in /usr/local/lib/python3.7/dist-packages (from ipython>=5.3.0->pyvis->pm4py) (2.6.1)\n",
            "Requirement already satisfied: pexpect in /usr/local/lib/python3.7/dist-packages (from ipython>=5.3.0->pyvis->pm4py) (4.8.0)\n",
            "Requirement already satisfied: setuptools>=18.5 in /usr/local/lib/python3.7/dist-packages (from ipython>=5.3.0->pyvis->pm4py) (57.4.0)\n",
            "Requirement already satisfied: pickleshare in /usr/local/lib/python3.7/dist-packages (from ipython>=5.3.0->pyvis->pm4py) (0.7.5)\n",
            "Requirement already satisfied: decorator in /usr/local/lib/python3.7/dist-packages (from ipython>=5.3.0->pyvis->pm4py) (4.4.2)\n",
            "Requirement already satisfied: prompt-toolkit<2.0.0,>=1.0.4 in /usr/local/lib/python3.7/dist-packages (from ipython>=5.3.0->pyvis->pm4py) (1.0.18)\n",
            "Requirement already satisfied: simplegeneric>0.8 in /usr/local/lib/python3.7/dist-packages (from ipython>=5.3.0->pyvis->pm4py) (0.8.1)\n",
            "Requirement already satisfied: MarkupSafe>=0.23 in /usr/local/lib/python3.7/dist-packages (from jinja2>=2.9.6->pyvis->pm4py) (2.0.1)\n",
            "Requirement already satisfied: wcwidth in /usr/local/lib/python3.7/dist-packages (from prompt-toolkit<2.0.0,>=1.0.4->ipython>=5.3.0->pyvis->pm4py) (0.2.5)\n",
            "Requirement already satisfied: ptyprocess>=0.5 in /usr/local/lib/python3.7/dist-packages (from pexpect->ipython>=5.3.0->pyvis->pm4py) (0.7.0)\n",
            "Requirement already satisfied: mpmath>=0.19 in /usr/local/lib/python3.7/dist-packages (from sympy->pm4py) (1.2.1)\n",
            "Building wheels for collected packages: stringdist\n",
            "  Building wheel for stringdist (setup.py) ... \u001b[?25l\u001b[?25hdone\n",
            "  Created wheel for stringdist: filename=StringDist-1.0.9-cp37-cp37m-linux_x86_64.whl size=23589 sha256=60eb1e6d06593401d5ef4ad708913fa003426359d7f19133ac9c3ae99c0dc5e3\n",
            "  Stored in directory: /root/.cache/pip/wheels/d7/9c/d4/63bc3d8931de0980b9e4a724dea290bb40b8b1b2bd6227c8da\n",
            "Successfully built stringdist\n",
            "Installing collected packages: jsonpickle, stringdist, pyvis, deprecation, pm4py\n",
            "Successfully installed deprecation-2.1.0 jsonpickle-2.1.0 pm4py-2.2.19.2 pyvis-0.1.9 stringdist-1.0.9\n",
            "Collecting shap\n",
            "  Downloading shap-0.40.0-cp37-cp37m-manylinux2010_x86_64.whl (564 kB)\n",
            "\u001b[K     |████████████████████████████████| 564 kB 9.0 MB/s \n",
            "\u001b[?25hRequirement already satisfied: numpy in /usr/local/lib/python3.7/dist-packages (from shap) (1.21.5)\n",
            "Requirement already satisfied: scikit-learn in /usr/local/lib/python3.7/dist-packages (from shap) (1.0.2)\n",
            "Collecting slicer==0.0.7\n",
            "  Downloading slicer-0.0.7-py3-none-any.whl (14 kB)\n",
            "Requirement already satisfied: scipy in /usr/local/lib/python3.7/dist-packages (from shap) (1.4.1)\n",
            "Requirement already satisfied: packaging>20.9 in /usr/local/lib/python3.7/dist-packages (from shap) (21.3)\n",
            "Requirement already satisfied: pandas in /usr/local/lib/python3.7/dist-packages (from shap) (1.3.5)\n",
            "Requirement already satisfied: cloudpickle in /usr/local/lib/python3.7/dist-packages (from shap) (1.3.0)\n",
            "Requirement already satisfied: numba in /usr/local/lib/python3.7/dist-packages (from shap) (0.51.2)\n",
            "Requirement already satisfied: tqdm>4.25.0 in /usr/local/lib/python3.7/dist-packages (from shap) (4.63.0)\n",
            "Requirement already satisfied: pyparsing!=3.0.5,>=2.0.2 in /usr/local/lib/python3.7/dist-packages (from packaging>20.9->shap) (3.0.7)\n",
            "Requirement already satisfied: setuptools in /usr/local/lib/python3.7/dist-packages (from numba->shap) (57.4.0)\n",
            "Requirement already satisfied: llvmlite<0.35,>=0.34.0.dev0 in /usr/local/lib/python3.7/dist-packages (from numba->shap) (0.34.0)\n",
            "Requirement already satisfied: pytz>=2017.3 in /usr/local/lib/python3.7/dist-packages (from pandas->shap) (2018.9)\n",
            "Requirement already satisfied: python-dateutil>=2.7.3 in /usr/local/lib/python3.7/dist-packages (from pandas->shap) (2.8.2)\n",
            "Requirement already satisfied: six>=1.5 in /usr/local/lib/python3.7/dist-packages (from python-dateutil>=2.7.3->pandas->shap) (1.15.0)\n",
            "Requirement already satisfied: threadpoolctl>=2.0.0 in /usr/local/lib/python3.7/dist-packages (from scikit-learn->shap) (3.1.0)\n",
            "Requirement already satisfied: joblib>=0.11 in /usr/local/lib/python3.7/dist-packages (from scikit-learn->shap) (1.1.0)\n",
            "Installing collected packages: slicer, shap\n",
            "Successfully installed shap-0.40.0 slicer-0.0.7\n"
          ]
        }
      ]
    },
    {
      "cell_type": "code",
      "source": [
        "!pip install ipython-autotime\n",
        "%load_ext autotime"
      ],
      "metadata": {
        "id": "d06GV9AjCHWo",
        "colab": {
          "base_uri": "https://localhost:8080/"
        },
        "outputId": "e4818b30-59b2-4b5c-cb60-128674f160c9"
      },
      "id": "d06GV9AjCHWo",
      "execution_count": null,
      "outputs": [
        {
          "output_type": "stream",
          "name": "stdout",
          "text": [
            "Collecting ipython-autotime\n",
            "  Downloading ipython_autotime-0.3.1-py2.py3-none-any.whl (6.8 kB)\n",
            "Requirement already satisfied: ipython in /usr/local/lib/python3.7/dist-packages (from ipython-autotime) (5.5.0)\n",
            "Requirement already satisfied: decorator in /usr/local/lib/python3.7/dist-packages (from ipython->ipython-autotime) (4.4.2)\n",
            "Requirement already satisfied: prompt-toolkit<2.0.0,>=1.0.4 in /usr/local/lib/python3.7/dist-packages (from ipython->ipython-autotime) (1.0.18)\n",
            "Requirement already satisfied: traitlets>=4.2 in /usr/local/lib/python3.7/dist-packages (from ipython->ipython-autotime) (5.1.1)\n",
            "Requirement already satisfied: pygments in /usr/local/lib/python3.7/dist-packages (from ipython->ipython-autotime) (2.6.1)\n",
            "Requirement already satisfied: simplegeneric>0.8 in /usr/local/lib/python3.7/dist-packages (from ipython->ipython-autotime) (0.8.1)\n",
            "Requirement already satisfied: setuptools>=18.5 in /usr/local/lib/python3.7/dist-packages (from ipython->ipython-autotime) (57.4.0)\n",
            "Requirement already satisfied: pexpect in /usr/local/lib/python3.7/dist-packages (from ipython->ipython-autotime) (4.8.0)\n",
            "Requirement already satisfied: pickleshare in /usr/local/lib/python3.7/dist-packages (from ipython->ipython-autotime) (0.7.5)\n",
            "Requirement already satisfied: six>=1.9.0 in /usr/local/lib/python3.7/dist-packages (from prompt-toolkit<2.0.0,>=1.0.4->ipython->ipython-autotime) (1.15.0)\n",
            "Requirement already satisfied: wcwidth in /usr/local/lib/python3.7/dist-packages (from prompt-toolkit<2.0.0,>=1.0.4->ipython->ipython-autotime) (0.2.5)\n",
            "Requirement already satisfied: ptyprocess>=0.5 in /usr/local/lib/python3.7/dist-packages (from pexpect->ipython->ipython-autotime) (0.7.0)\n",
            "Installing collected packages: ipython-autotime\n",
            "Successfully installed ipython-autotime-0.3.1\n",
            "time: 205 µs (started: 2022-03-24 10:52:30 +00:00)\n"
          ]
        }
      ]
    },
    {
      "cell_type": "code",
      "source": [
        "#!wget https://raw.githubusercontent.com/pm4py/pm4py-ws/master/files/event_logs/receipt.xes"
      ],
      "metadata": {
        "id": "jfcRJZGOnCtY",
        "colab": {
          "base_uri": "https://localhost:8080/"
        },
        "outputId": "8915b7f7-5310-4e70-8b18-db38026d14ac"
      },
      "id": "jfcRJZGOnCtY",
      "execution_count": null,
      "outputs": [
        {
          "output_type": "stream",
          "name": "stdout",
          "text": [
            "time: 1.53 ms (started: 2022-03-24 10:52:30 +00:00)\n"
          ]
        }
      ]
    },
    {
      "cell_type": "code",
      "execution_count": null,
      "id": "8b700606",
      "metadata": {
        "ExecuteTime": {
          "end_time": "2022-03-08T11:13:52.199752Z",
          "start_time": "2022-03-08T11:13:51.078278Z"
        },
        "id": "8b700606",
        "colab": {
          "base_uri": "https://localhost:8080/"
        },
        "outputId": "9b7189a0-bfbd-4bdb-c63a-57ccf20ced53"
      },
      "outputs": [
        {
          "output_type": "stream",
          "name": "stdout",
          "text": [
            "time: 1.47 s (started: 2022-03-24 10:52:30 +00:00)\n"
          ]
        }
      ],
      "source": [
        "from typing import *\n",
        "import pandas as pd\n",
        "import numpy as np\n",
        "import pickle\n",
        "import pm4py\n",
        "from pm4py.objects.log.util import dataframe_utils\n",
        "from pm4py.objects.log.obj import Trace\n",
        "from pm4py.util import pandas_utils\n",
        "from pm4py.objects.conversion.log import converter as conversion_factory\n",
        "from pm4py.visualization.petri_net import visualizer as pn_vis\n",
        "from pm4py.util import constants\n",
        "from pm4py.algo.discovery.dfg import algorithm as dfg_discovery\n",
        "from pm4py.visualization.dfg import visualizer as dfg_visualization\n",
        "from pm4py.algo.discovery.inductive import algorithm as inductive_miner\n",
        "from pm4py.util import exec_utils\n",
        "from pm4py.statistics.variants.log import get as variants_get\n",
        "from pm4py.algo.filtering.log.attributes import attributes_filter\n",
        "from pm4py.algo.filtering.log.start_activities import start_activities_filter\n",
        "from pm4py.objects.log.importer.xes import importer as xes_importer\n",
        "from pm4py.algo.filtering.log.end_activities import end_activities_filter\n",
        "from pm4py.statistics.traces.generic.log import case_statistics\n",
        "from pm4py.algo.filtering.log.variants import variants_filter\n",
        "from pm4py.objects.conversion.log import converter as log_converter\n",
        "from pm4py.algo.filtering.log.cases import case_filter\n",
        "from pm4py.objects.log.obj import EventLog, EventStream\n",
        "from pm4py.objects.log.exporter.xes import exporter as xes_exporter\n",
        "from sklearn.tree import DecisionTreeClassifier\n",
        "from pm4py.visualization.decisiontree import visualizer as dt_visualizer"
      ]
    },
    {
      "cell_type": "code",
      "execution_count": null,
      "id": "d9040b4d",
      "metadata": {
        "ExecuteTime": {
          "end_time": "2022-03-08T11:13:54.184464Z",
          "start_time": "2022-03-08T11:13:52.201343Z"
        },
        "id": "d9040b4d",
        "colab": {
          "base_uri": "https://localhost:8080/"
        },
        "outputId": "45c3d1a6-73fb-454b-949a-cb101b134c0c"
      },
      "outputs": [
        {
          "output_type": "stream",
          "name": "stdout",
          "text": [
            "time: 4.84 s (started: 2022-03-24 10:52:31 +00:00)\n"
          ]
        }
      ],
      "source": [
        "from xgboost import XGBClassifier\n",
        "from sklearn.model_selection import train_test_split\n",
        "from sklearn.metrics import mean_squared_error\n",
        "from sklearn.metrics import precision_score, recall_score, accuracy_score\n",
        "import xgboost as xgb\n",
        "from xgboost import cv\n",
        "from sklearn.model_selection import cross_validate\n",
        "import pickle\n",
        "from sklearn.model_selection import GridSearchCV\n",
        "import shap\n",
        "import math \n",
        "import tensorflow as tf\n",
        "from statistics import median"
      ]
    },
    {
      "cell_type": "code",
      "source": [
        "log = pm4py.read_xes(\"final_roadtraffic.xes\")\n",
        "target = pd.read_pickle(\"/content/target_roadtraffic.pkl\")"
      ],
      "metadata": {
        "colab": {
          "base_uri": "https://localhost:8080/",
          "height": 67,
          "referenced_widgets": [
            "7fbee128837a4ee9a94bbc56f8c4cf2f",
            "16b77b694f1e4aa6a10bcbaa9f8e1eb5",
            "79da8d08a357403c81a5e6dfe8f2531b",
            "7a3037c7049e4ed59b912af08755fa8f",
            "46ce31d8af904b499d12be8927740e51",
            "814e6e1f31fa4920a33415e7c88a888f",
            "5bede69077304f7c926ce81cd3f5792b",
            "ab2f9fd8c4ec43c7a2049af6dad5d3c9",
            "4b3ec487e6c041b39a6c37b6081b8114",
            "6f458c09d53e46e7ab6833629f82f23f",
            "82c94992421846f6b7568f193ee4603f"
          ]
        },
        "id": "oW8ntNQ5CPvC",
        "outputId": "0d687536-290a-4290-ac29-741aa6edafa9"
      },
      "id": "oW8ntNQ5CPvC",
      "execution_count": null,
      "outputs": [
        {
          "output_type": "display_data",
          "data": {
            "text/plain": [
              "parsing log, completed traces ::   0%|          | 0/24641 [00:00<?, ?it/s]"
            ],
            "application/vnd.jupyter.widget-view+json": {
              "version_major": 2,
              "version_minor": 0,
              "model_id": "7fbee128837a4ee9a94bbc56f8c4cf2f"
            }
          },
          "metadata": {}
        },
        {
          "output_type": "stream",
          "name": "stdout",
          "text": [
            "time: 30.5 s (started: 2022-03-24 10:52:36 +00:00)\n"
          ]
        }
      ]
    },
    {
      "cell_type": "code",
      "source": [
        "trace_cnt = 0\n",
        "trace_len = 0\n",
        "for trace in log:\n",
        "  trace_len += len(trace)\n",
        "  trace_cnt += 1"
      ],
      "metadata": {
        "colab": {
          "base_uri": "https://localhost:8080/"
        },
        "id": "b5UyZUQhD_nP",
        "outputId": "f2e5a9cd-42c1-4f29-b146-1d92dd26c7ca"
      },
      "id": "b5UyZUQhD_nP",
      "execution_count": null,
      "outputs": [
        {
          "output_type": "stream",
          "name": "stdout",
          "text": [
            "time: 30.9 ms (started: 2022-03-24 10:53:07 +00:00)\n"
          ]
        }
      ]
    },
    {
      "cell_type": "code",
      "source": [
        "trace_len/trace_cnt"
      ],
      "metadata": {
        "id": "OGth3YR1EBcI",
        "outputId": "58719aba-2b2f-4b15-d194-96595f4d9a7f",
        "colab": {
          "base_uri": "https://localhost:8080/"
        }
      },
      "id": "OGth3YR1EBcI",
      "execution_count": null,
      "outputs": [
        {
          "output_type": "execute_result",
          "data": {
            "text/plain": [
              "5.344507122275882"
            ]
          },
          "metadata": {},
          "execution_count": 9
        },
        {
          "output_type": "stream",
          "name": "stdout",
          "text": [
            "time: 2.88 ms (started: 2022-03-24 10:53:07 +00:00)\n"
          ]
        }
      ]
    },
    {
      "cell_type": "code",
      "source": [
        "attributes_filter.get_attribute_values(log, \"concept:name\").keys()"
      ],
      "metadata": {
        "colab": {
          "base_uri": "https://localhost:8080/"
        },
        "id": "V7ctG69ZpEG1",
        "outputId": "e7913801-25a3-4210-f0b5-c5411f65ede1"
      },
      "id": "V7ctG69ZpEG1",
      "execution_count": null,
      "outputs": [
        {
          "output_type": "execute_result",
          "data": {
            "text/plain": [
              "dict_keys(['Create Fine', 'Send Fine', 'Insert Fine Notification', 'Add penalty', 'Payment', 'Insert Date Appeal to Prefecture', 'Send Appeal to Prefecture', 'Receive Result Appeal from Prefecture', 'Notify Result Appeal to Offender', 'Appeal to Judge', 'Send for Credit Collection'])"
            ]
          },
          "metadata": {},
          "execution_count": 10
        },
        {
          "output_type": "stream",
          "name": "stdout",
          "text": [
            "time: 214 ms (started: 2022-03-24 10:53:07 +00:00)\n"
          ]
        }
      ]
    },
    {
      "cell_type": "code",
      "source": [
        "print(len(list(attributes_filter.get_attribute_values(log, \"concept:name\").keys())))"
      ],
      "metadata": {
        "colab": {
          "base_uri": "https://localhost:8080/"
        },
        "id": "Vx779EKQqMKn",
        "outputId": "deafb027-e7b6-426d-998b-47f1fd94f53c"
      },
      "id": "Vx779EKQqMKn",
      "execution_count": null,
      "outputs": [
        {
          "output_type": "stream",
          "name": "stdout",
          "text": [
            "11\n",
            "time: 187 ms (started: 2022-03-24 10:53:07 +00:00)\n"
          ]
        }
      ]
    },
    {
      "cell_type": "code",
      "execution_count": null,
      "id": "6de820dd",
      "metadata": {
        "ExecuteTime": {
          "end_time": "2022-03-08T11:15:21.336358Z",
          "start_time": "2022-03-08T11:15:21.331339Z"
        },
        "id": "6de820dd",
        "colab": {
          "base_uri": "https://localhost:8080/"
        },
        "outputId": "31178ae7-95b4-4234-83ff-d813154fb5be"
      },
      "outputs": [
        {
          "output_type": "stream",
          "name": "stdout",
          "text": [
            "time: 2.48 ms (started: 2022-03-24 10:53:07 +00:00)\n"
          ]
        }
      ],
      "source": [
        "def get_col_name(event_E_concept_name:str,event_F_concept_name:str, relation_name:str)->str:\n",
        "    tuple_event = (event_E_concept_name,event_F_concept_name)\n",
        "    relation_name = relation_name\n",
        "    str_return = str(tuple_event)+'_'+relation_name\n",
        "    return str_return \n",
        "    "
      ]
    },
    {
      "cell_type": "code",
      "execution_count": null,
      "id": "4c238786",
      "metadata": {
        "ExecuteTime": {
          "end_time": "2022-03-08T11:15:22.000671Z",
          "start_time": "2022-03-08T11:15:21.992591Z"
        },
        "id": "4c238786",
        "colab": {
          "base_uri": "https://localhost:8080/"
        },
        "outputId": "17c2a3a2-78b2-4695-8df2-146fae9860a8"
      },
      "outputs": [
        {
          "output_type": "stream",
          "name": "stdout",
          "text": [
            "time: 10.9 ms (started: 2022-03-24 10:53:07 +00:00)\n"
          ]
        }
      ],
      "source": [
        "def generate_ordered_matters_columns(log:EventLog, relation_name:str)->list:\n",
        "    activities = attributes_filter.get_attribute_values(log, \"concept:name\").keys()\n",
        "    \n",
        "    log_start = start_activities_filter.get_start_activities(log)\n",
        "    end_activities = end_activities_filter.get_end_activities(log)\n",
        "    list_respon = set()\n",
        "  \n",
        "    for item_e in activities:\n",
        "      for item_f in activities:\n",
        "        #if item_e not in log_start.keys():\n",
        "        if item_e != item_f:\n",
        "          col_name = get_col_name(item_e,item_f, relation_name)\n",
        "          list_respon.add(col_name)\n",
        "            \n",
        "    return list(list_respon)"
      ]
    },
    {
      "cell_type": "code",
      "execution_count": null,
      "id": "5386d10f",
      "metadata": {
        "ExecuteTime": {
          "end_time": "2022-03-08T11:15:22.626607Z",
          "start_time": "2022-03-08T11:15:22.618275Z"
        },
        "id": "5386d10f",
        "colab": {
          "base_uri": "https://localhost:8080/"
        },
        "outputId": "3cc26afc-14eb-43f3-d0f3-dbbb7cc0cd60"
      },
      "outputs": [
        {
          "output_type": "stream",
          "name": "stdout",
          "text": [
            "time: 10.4 ms (started: 2022-03-24 10:53:07 +00:00)\n"
          ]
        }
      ],
      "source": [
        "def generate_ordered_doesnt_matters_columns(log:EventLog, relation_name:str)->list:\n",
        "    activities = attributes_filter.get_attribute_values(log, \"concept:name\").keys()\n",
        "    \n",
        "    log_start = start_activities_filter.get_start_activities(log)\n",
        "    end_activities = end_activities_filter.get_end_activities(log)\n",
        "    list_respon = set()\n",
        "    \n",
        "    for item_e in activities:\n",
        "        for item_f in activities:\n",
        "            if item_e != item_f:\n",
        "                item_e_sort, item_f_sort = tuple(sorted((item_e,item_f)))\n",
        "                col_name = get_col_name(item_e_sort,item_f_sort, relation_name)\n",
        "                list_respon.add(col_name)\n",
        "    return list(list_respon)"
      ]
    },
    {
      "cell_type": "code",
      "execution_count": null,
      "id": "7b057ce6",
      "metadata": {
        "ExecuteTime": {
          "end_time": "2022-03-08T11:15:23.310891Z",
          "start_time": "2022-03-08T11:15:23.306059Z"
        },
        "id": "7b057ce6",
        "colab": {
          "base_uri": "https://localhost:8080/"
        },
        "outputId": "c378d223-09a1-4971-8e24-063a3d16cc0e"
      },
      "outputs": [
        {
          "output_type": "stream",
          "name": "stdout",
          "text": [
            "time: 3.03 ms (started: 2022-03-24 10:53:07 +00:00)\n"
          ]
        }
      ],
      "source": [
        "def log_len(log:EventLog)->int:\n",
        "    cases = 0\n",
        "    for trace in log:\n",
        "        cases+=1\n",
        "    return cases"
      ]
    },
    {
      "cell_type": "code",
      "execution_count": null,
      "id": "7d331b92",
      "metadata": {
        "ExecuteTime": {
          "end_time": "2022-03-08T11:15:23.943193Z",
          "start_time": "2022-03-08T11:15:23.935521Z"
        },
        "id": "7d331b92",
        "colab": {
          "base_uri": "https://localhost:8080/"
        },
        "outputId": "3a59d01b-438f-4802-f2d0-1f32bc790169"
      },
      "outputs": [
        {
          "output_type": "stream",
          "name": "stdout",
          "text": [
            "time: 15.8 ms (started: 2022-03-24 10:53:07 +00:00)\n"
          ]
        }
      ],
      "source": [
        "# Event F is a response of event E\n",
        "# naming convention ex: (A,B)_response ==> B came after A\n",
        "# actecedent : event[0]\n",
        "# consequent : event[1]\n",
        "def response(log:EventLog)->pd.DataFrame:\n",
        "    relation_name = 'response'\n",
        "    feature_list = generate_ordered_matters_columns(log,relation_name)\n",
        "    total_traces = log_len(log)\n",
        "    response_df = pd.DataFrame(0, index=np.arange(total_traces), columns=feature_list)\n",
        "    for trace_idx, trace in enumerate(log):\n",
        "        for event_E_idx, event_E in enumerate(trace[1:-1]):\n",
        "            event_E_idx= event_E_idx + 2\n",
        "            for event_F in trace[event_E_idx:-1]:\n",
        "                if event_E['concept:name']!=event_F['concept:name']:\n",
        "                    col_name = get_col_name(event_E['concept:name'], event_F['concept:name'],relation_name)\n",
        "                    col_idx = feature_list.index(col_name)\n",
        "                    response_df.iloc[trace_idx,col_idx]+=1\n",
        "    return response_df"
      ]
    },
    {
      "cell_type": "markdown",
      "source": [
        "**New response Approach**\n",
        "\n",
        "\n",
        "*   the trace is split based on the activtyy. foe each split we check what are the common following activities in the response list.\n",
        "*   example: <a,b,c,d,a,b,c>\n",
        "\n",
        ">  There is a response replation between \n",
        "\n",
        "* splits produced when event_e = \"a\" are <b,c,d>,<b,c>\n",
        "(a,b),(a,c) as every time \"a\" occurs \"b\" and \"c\" follows\n",
        "\n",
        "* activty \"c\" will not have aresponse relation with any other activity :\n",
        "splits produced when event_e = \"c\" are <d,a,b>,<None> \n",
        "\n",
        "\n"
      ],
      "metadata": {
        "id": "Fqu6ZFw8mAJw"
      },
      "id": "Fqu6ZFw8mAJw"
    },
    {
      "cell_type": "code",
      "source": [
        "def trace_to_string(trace:Trace)-> Tuple[set, str]:\n",
        "  unique_events = set()\n",
        "  str_trace = \"\"\n",
        "  last_event = \"\"\n",
        "  for event in trace:\n",
        "    if event[\"concept:name\"] != last_event:\n",
        "      str_trace += event['concept:name'] +\",\"\n",
        "    last_event = event['concept:name']\n",
        "    unique_events.add(event['concept:name']+\",\")\n",
        "  return (unique_events,str_trace)"
      ],
      "metadata": {
        "id": "R6rMWdmCLPok",
        "colab": {
          "base_uri": "https://localhost:8080/"
        },
        "outputId": "1b552573-5f5b-4e2c-c93b-e57bdea8fec2"
      },
      "id": "R6rMWdmCLPok",
      "execution_count": null,
      "outputs": [
        {
          "output_type": "stream",
          "name": "stdout",
          "text": [
            "time: 5.64 ms (started: 2022-03-24 10:53:07 +00:00)\n"
          ]
        }
      ]
    },
    {
      "cell_type": "code",
      "source": [
        "def common_event_in_following(list_followings:list)->list:\n",
        "  intersection_set = set()\n",
        "  first_set = True\n",
        "  for following_events in list_followings :\n",
        "    if first_set:\n",
        "      all_following_events = following_events.split(\",\")[:-1]\n",
        "      intersection_set = set(all_following_events)\n",
        "      first_set = False\n",
        "    else:\n",
        "      all_following_events = set(following_events.split(\",\")[:-1])\n",
        "      intersection_set = intersection_set.intersection(all_following_events)\n",
        "      \n",
        "  return list(intersection_set)\n",
        "\n",
        "\n",
        "\n"
      ],
      "metadata": {
        "id": "zvEdhc8wfu7E",
        "colab": {
          "base_uri": "https://localhost:8080/"
        },
        "outputId": "a5fed88a-3baf-49ca-9772-471ff8a81d49"
      },
      "id": "zvEdhc8wfu7E",
      "execution_count": null,
      "outputs": [
        {
          "output_type": "stream",
          "name": "stdout",
          "text": [
            "time: 16.2 ms (started: 2022-03-24 10:53:07 +00:00)\n"
          ]
        }
      ]
    },
    {
      "cell_type": "code",
      "source": [
        "def reponse_trace(set_trace_events:set, str_trace:str)->Dict:\n",
        "  reponse_rules_trace = dict()\n",
        "  for event_e in set_trace_events:\n",
        "    split = str_trace.split(event_e)[1:]\n",
        "    common_event_f = common_event_in_following(split)\n",
        "    if len(common_event_f)>0:\n",
        "      event_e = event_e.split(\",\")[0]\n",
        "      reponse_rules_trace[event_e]= common_event_f\n",
        "  return reponse_rules_trace\n"
      ],
      "metadata": {
        "id": "KjO-nziDNZWn",
        "colab": {
          "base_uri": "https://localhost:8080/"
        },
        "outputId": "50cb1329-5cb5-4d2b-f4ce-cc8b5e12a2db"
      },
      "id": "KjO-nziDNZWn",
      "execution_count": null,
      "outputs": [
        {
          "output_type": "stream",
          "name": "stdout",
          "text": [
            "time: 5.94 ms (started: 2022-03-24 10:53:07 +00:00)\n"
          ]
        }
      ]
    },
    {
      "cell_type": "code",
      "source": [
        "def response_boolean_v2(log:EventLog)->pd.DataFrame:\n",
        "    relation_name = 'response'\n",
        "    feature_list = generate_ordered_matters_columns(log,relation_name)\n",
        "    total_traces = log_len(log)\n",
        "    response_df = pd.DataFrame(0, index=np.arange(total_traces), columns=feature_list)\n",
        "    for trace_idx, trace in enumerate(log):\n",
        "      set_trace_events, str_trace = trace_to_string(trace)\n",
        "      response_rules_trace = reponse_trace(set_trace_events, str_trace)\n",
        "      for event_e, list_event_f in response_rules_trace.items():\n",
        "        for event_f in list_event_f:\n",
        "          col_name = get_col_name(event_e, event_f,relation_name)\n",
        "          col_idx = feature_list.index(col_name)\n",
        "          response_df.iloc[trace_idx,col_idx]=1\n",
        "    return response_df"
      ],
      "metadata": {
        "id": "GWJwBDuJPXsM",
        "colab": {
          "base_uri": "https://localhost:8080/"
        },
        "outputId": "32ccb315-c414-42ca-8729-fd2e3fa583f7"
      },
      "id": "GWJwBDuJPXsM",
      "execution_count": null,
      "outputs": [
        {
          "output_type": "stream",
          "name": "stdout",
          "text": [
            "time: 10.6 ms (started: 2022-03-24 10:53:07 +00:00)\n"
          ]
        }
      ]
    },
    {
      "cell_type": "code",
      "execution_count": null,
      "id": "776d1689",
      "metadata": {
        "ExecuteTime": {
          "end_time": "2022-03-08T11:15:24.579886Z",
          "start_time": "2022-03-08T11:15:24.570333Z"
        },
        "id": "776d1689",
        "colab": {
          "base_uri": "https://localhost:8080/"
        },
        "outputId": "dedc8f8a-061d-4474-a558-86a6a602f2f2"
      },
      "outputs": [
        {
          "output_type": "stream",
          "name": "stdout",
          "text": [
            "time: 21.7 ms (started: 2022-03-24 10:53:07 +00:00)\n"
          ]
        }
      ],
      "source": [
        "# Event F is a response of event E\n",
        "# naming convention ex: (A,B)_response ==> B came after A\n",
        "# actecedent : event[0]\n",
        "# consequent : event[1]\n",
        "def response_boolean(log:EventLog)->pd.DataFrame:\n",
        "    relation_name = 'response'\n",
        "    feature_list = generate_ordered_matters_columns(log,relation_name)\n",
        "    total_traces = log_len(log)\n",
        "    response_df = pd.DataFrame(0, index=np.arange(total_traces), columns=feature_list)\n",
        "    for trace_idx, trace in enumerate(log):\n",
        "        for event_E_idx, event_E in enumerate(trace[1:-1]):\n",
        "            event_E_idx= event_E_idx + 2\n",
        "            for event_F in trace[event_E_idx:-1]:\n",
        "                if event_E['concept:name']!=event_F['concept:name']:\n",
        "                    col_name = get_col_name(event_E['concept:name'], event_F['concept:name'],relation_name)\n",
        "                    col_idx = feature_list.index(col_name)\n",
        "                    response_df.iloc[trace_idx,col_idx]=1\n",
        "    return response_df"
      ]
    },
    {
      "cell_type": "markdown",
      "source": [
        "**New approach for precedence:**\n",
        "* **(a,b)_precedence activityy b is always preceded by \"a\"**\n",
        "* How it differes from response:\n",
        "* trace example : <a,c,e,a,b,c,e>\n",
        "* (a,c)_response, (a,e)_response, while (a,b)_precedence\n",
        "* response always looks at the following activities till event_e occurs again.\n",
        "* While precedence looks at the previous activities till event_f occurs again."
      ],
      "metadata": {
        "id": "BlkTtiOsyp1-"
      },
      "id": "BlkTtiOsyp1-"
    },
    {
      "cell_type": "code",
      "source": [
        "def precedence_trace(set_trace_events:set, str_trace:str)->Dict:\n",
        "  precedence_rules_trace = dict()\n",
        "  for event_e in set_trace_events:\n",
        "    split = str_trace.split(event_e)[:-1]\n",
        "    common_event_f = common_event_in_following(split)\n",
        "    if len(common_event_f)>0:\n",
        "      event_e = event_e.split(\",\")[0]\n",
        "      precedence_rules_trace[event_e]= common_event_f\n",
        "  return precedence_rules_trace"
      ],
      "metadata": {
        "id": "s_-OaGI-GklZ",
        "colab": {
          "base_uri": "https://localhost:8080/"
        },
        "outputId": "1c4f35b3-96e5-4a4d-8c61-b2655d645ea2"
      },
      "id": "s_-OaGI-GklZ",
      "execution_count": null,
      "outputs": [
        {
          "output_type": "stream",
          "name": "stdout",
          "text": [
            "time: 6.39 ms (started: 2022-03-24 10:53:07 +00:00)\n"
          ]
        }
      ]
    },
    {
      "cell_type": "code",
      "source": [
        "def precedence_bool_v2(log:EventLog)->pd.DataFrame:\n",
        "    relation_name = 'precedence'\n",
        "    feature_list = generate_ordered_matters_columns(log,relation_name)\n",
        "    total_traces = log_len(log)\n",
        "    precedence_df = pd.DataFrame(0, index=np.arange(total_traces), columns=feature_list)\n",
        "    \n",
        "    for trace_idx, trace in enumerate(log):\n",
        "      set_trace_events, str_trace = trace_to_string(trace)\n",
        "      precedence_rules_trace = precedence_trace(set_trace_events, str_trace)\n",
        "      for event_f,list_events_e in precedence_rules_trace.items():\n",
        "        for event_e in list_events_e:\n",
        "          col_name = get_col_name(event_e, event_f,relation_name)\n",
        "          col_idx = feature_list.index(col_name)\n",
        "          precedence_df.iloc[trace_idx,col_idx] = 1\n",
        "    return precedence_df"
      ],
      "metadata": {
        "id": "uncjZNftKqK-",
        "colab": {
          "base_uri": "https://localhost:8080/"
        },
        "outputId": "625e4151-b994-4b95-f2bb-2461d1446446"
      },
      "id": "uncjZNftKqK-",
      "execution_count": null,
      "outputs": [
        {
          "output_type": "stream",
          "name": "stdout",
          "text": [
            "time: 12.2 ms (started: 2022-03-24 10:53:07 +00:00)\n"
          ]
        }
      ]
    },
    {
      "cell_type": "code",
      "execution_count": null,
      "id": "02f69892",
      "metadata": {
        "ExecuteTime": {
          "end_time": "2022-03-08T11:15:25.085086Z",
          "start_time": "2022-03-08T11:15:25.078495Z"
        },
        "id": "02f69892",
        "colab": {
          "base_uri": "https://localhost:8080/"
        },
        "outputId": "dc91ee06-e30a-4a43-8c1e-6ddb276e4ef1"
      },
      "outputs": [
        {
          "output_type": "stream",
          "name": "stdout",
          "text": [
            "time: 10.6 ms (started: 2022-03-24 10:53:07 +00:00)\n"
          ]
        }
      ],
      "source": [
        "# event E  preceeded F \n",
        "# naming convention ex: (A,B)_prec ==> A came before B\n",
        "# actecedent : event[1]\n",
        "# consequent : event[0]\n",
        "def precedence(log:EventLog)->pd.DataFrame:\n",
        "    relation_name = 'precedence'\n",
        "    feature_list = generate_ordered_matters_columns(log,relation_name)\n",
        "    total_traces = log_len(log)\n",
        "    precedence_df = pd.DataFrame(0, index=np.arange(total_traces), columns=feature_list)\n",
        "    \n",
        "    for trace_idx, trace in enumerate(log):\n",
        "        trace_len = range(len(trace[:-1]))\n",
        "        reversed_range = reversed(trace_len)\n",
        "        for event_F_idx in reversed_range:\n",
        "            event_F = trace[event_F_idx]\n",
        "            for event_E in trace[1:event_F_idx]:\n",
        "                if event_E['concept:name']!=event_F['concept:name']:\n",
        "                    col_name = get_col_name(event_E['concept:name'], event_F['concept:name'],relation_name)\n",
        "                    col_idx = feature_list.index(col_name)\n",
        "                    precedence_df.iloc[trace_idx,col_idx]+=1\n",
        "    return precedence_df"
      ]
    },
    {
      "cell_type": "code",
      "execution_count": null,
      "id": "b9963549",
      "metadata": {
        "ExecuteTime": {
          "end_time": "2022-03-08T11:15:25.554818Z",
          "start_time": "2022-03-08T11:15:25.545009Z"
        },
        "id": "b9963549",
        "colab": {
          "base_uri": "https://localhost:8080/"
        },
        "outputId": "d871484a-8098-45e3-aec3-f3456ce820a1"
      },
      "outputs": [
        {
          "output_type": "stream",
          "name": "stdout",
          "text": [
            "time: 13.5 ms (started: 2022-03-24 10:53:08 +00:00)\n"
          ]
        }
      ],
      "source": [
        "# event E  preceeded F \n",
        "# naming convention ex: (A,B)_prec ==> A came before B\n",
        "# actecedent : event[1]\n",
        "# consequent : event[0]\n",
        "def precedence_bool(log:EventLog)->pd.DataFrame:\n",
        "    relation_name = 'precedence'\n",
        "    feature_list = generate_ordered_matters_columns(log,relation_name)\n",
        "    total_traces = log_len(log)\n",
        "    precedence_df = pd.DataFrame(0, index=np.arange(total_traces), columns=feature_list)\n",
        "    \n",
        "    for trace_idx, trace in enumerate(log):\n",
        "        trace_len = range(len(trace[:-1]))\n",
        "        reversed_range = reversed(trace_len)\n",
        "        for event_F_idx in reversed_range:\n",
        "            event_F = trace[event_F_idx]\n",
        "            for event_E in trace[1:event_F_idx]:\n",
        "                if event_E['concept:name']!=event_F['concept:name']:\n",
        "                    col_name = get_col_name(event_E['concept:name'], event_F['concept:name'],relation_name)\n",
        "                    col_idx = feature_list.index(col_name)\n",
        "                    precedence_df.iloc[trace_idx,col_idx] = 1\n",
        "    return precedence_df"
      ]
    },
    {
      "cell_type": "code",
      "execution_count": null,
      "id": "172eaa2d",
      "metadata": {
        "ExecuteTime": {
          "end_time": "2022-03-08T11:15:26.310206Z",
          "start_time": "2022-03-08T11:15:26.300534Z"
        },
        "id": "172eaa2d",
        "colab": {
          "base_uri": "https://localhost:8080/"
        },
        "outputId": "bf040b35-f5a2-462b-b9e7-76540972e6a7"
      },
      "outputs": [
        {
          "output_type": "stream",
          "name": "stdout",
          "text": [
            "time: 20.3 ms (started: 2022-03-24 10:53:08 +00:00)\n"
          ]
        }
      ],
      "source": [
        "# event E and F occur with each other\n",
        "def co_existence(log:EventLog)->pd.DataFrame:\n",
        "    relation_name = 'alternate_succession'\n",
        "    feature_list = generate_ordered_doesnt_matters_columns(log,relation_name)\n",
        "    total_traces = log_len(log)\n",
        "    co_existence = pd.DataFrame(0, index=np.arange(total_traces), columns=feature_list)\n",
        "    \n",
        "    for trace_idx, trace in enumerate(log):\n",
        "        trace_co_exi_dict = {}\n",
        "        for event_E_idx, event_E in enumerate(trace[1:-1]):\n",
        "            event_E_idx+=2\n",
        "            for event_F in trace[event_E_idx:-1]:\n",
        "                if event_E['concept:name']!=event_F['concept:name']:\n",
        "                    if (event_E['concept:name'],event_F['concept:name']) not in trace_co_exi_dict.keys():\n",
        "                        if (event_F['concept:name'],event_E['concept:name']) not in trace_co_exi_dict.keys():\n",
        "                            trace_co_exi_dict[(event_E['concept:name'],event_F['concept:name'])] = 0\n",
        "                        else:\n",
        "                            trace_co_exi_dict[(event_F['concept:name'],event_E['concept:name'])] +=1\n",
        "                            \n",
        "        for key, value in trace_co_exi_dict.items():\n",
        "            if value != 0:\n",
        "                event_E_sort, event_F_sort = tuple(sorted(key))\n",
        "                col_name = get_col_name(event_E_sort, event_F_sort,relation_name)\n",
        "                col_idx = feature_list.index(col_name)\n",
        "                co_existence.iloc[trace_idx,col_idx]+=value\n",
        "\n",
        "    return co_existence"
      ]
    },
    {
      "cell_type": "code",
      "execution_count": null,
      "id": "e649995c",
      "metadata": {
        "ExecuteTime": {
          "end_time": "2022-03-08T11:15:26.926454Z",
          "start_time": "2022-03-08T11:15:26.916461Z"
        },
        "id": "e649995c",
        "colab": {
          "base_uri": "https://localhost:8080/"
        },
        "outputId": "33a4a9c6-ce7f-4d3b-ffa8-a754e9c3e5c6"
      },
      "outputs": [
        {
          "output_type": "stream",
          "name": "stdout",
          "text": [
            "time: 21.1 ms (started: 2022-03-24 10:53:08 +00:00)\n"
          ]
        }
      ],
      "source": [
        "# event E and F occur with each other\n",
        "def co_existence_boolean(log:EventLog)->pd.DataFrame:\n",
        "    relation_name = 'alternate_succession'\n",
        "    feature_list = generate_ordered_doesnt_matters_columns(log,relation_name)\n",
        "    total_traces = log_len(log)\n",
        "    co_existence = pd.DataFrame(0, index=np.arange(total_traces), columns=feature_list)\n",
        "    \n",
        "    for trace_idx, trace in enumerate(log):\n",
        "        trace_co_exi_dict = {}\n",
        "        for event_E_idx, event_E in enumerate(trace[1:-1]):\n",
        "            event_E_idx+=2\n",
        "            for event_F in trace[event_E_idx:-1]:\n",
        "                if event_E['concept:name']!=event_F['concept:name']:\n",
        "                    if (event_E['concept:name'],event_F['concept:name']) not in trace_co_exi_dict.keys():\n",
        "                        if (event_F['concept:name'],event_E['concept:name']) not in trace_co_exi_dict.keys():\n",
        "                            trace_co_exi_dict[(event_E['concept:name'],event_F['concept:name'])] = 0\n",
        "                        else:\n",
        "                            trace_co_exi_dict[(event_F['concept:name'],event_E['concept:name'])] +=1\n",
        "                            \n",
        "        for key, value in trace_co_exi_dict.items():\n",
        "            if value != 0:\n",
        "                event_E_sort, event_F_sort = tuple(sorted(key))\n",
        "                col_name = get_col_name(event_E_sort, event_F_sort,relation_name)\n",
        "                col_idx = feature_list.index(col_name)\n",
        "                co_existence.iloc[trace_idx,col_idx] = 1\n",
        "\n",
        "    return co_existence"
      ]
    },
    {
      "cell_type": "code",
      "execution_count": null,
      "id": "e1d7edae",
      "metadata": {
        "ExecuteTime": {
          "end_time": "2022-03-08T11:15:27.595240Z",
          "start_time": "2022-03-08T11:15:27.588941Z"
        },
        "id": "e1d7edae",
        "colab": {
          "base_uri": "https://localhost:8080/"
        },
        "outputId": "f3120986-0973-4bea-ae43-6a0de7302df0"
      },
      "outputs": [
        {
          "output_type": "stream",
          "name": "stdout",
          "text": [
            "time: 4.37 ms (started: 2022-03-24 10:53:08 +00:00)\n"
          ]
        }
      ],
      "source": [
        "def get_target(log:EventLog)->pd.DataFrame:\n",
        "    target_list = list()\n",
        "    \n",
        "    for case_idx, case in enumerate(log):\n",
        "        if case[-1]['concept:name'] == 'Winback EOP':\n",
        "            target_list.append(1)\n",
        "        else:\n",
        "            target_list.append(0)\n",
        "            \n",
        "    return pd.DataFrame(target_list,columns = ['target'])"
      ]
    },
    {
      "cell_type": "code",
      "execution_count": null,
      "id": "64384e20",
      "metadata": {
        "ExecuteTime": {
          "end_time": "2022-03-08T11:15:28.475948Z",
          "start_time": "2022-03-08T11:15:28.469321Z"
        },
        "id": "64384e20",
        "colab": {
          "base_uri": "https://localhost:8080/"
        },
        "outputId": "5247a0cd-3fed-4983-f13e-eeb31b4f7109"
      },
      "outputs": [
        {
          "output_type": "stream",
          "name": "stdout",
          "text": [
            "time: 10 ms (started: 2022-03-24 10:53:08 +00:00)\n"
          ]
        }
      ],
      "source": [
        "def support_log(log:EventLog)->dict:\n",
        "    dict_activities_count_log = {}\n",
        "    for case in log:\n",
        "        dict_activites_case = {}\n",
        "        for event in case:\n",
        "            if event['concept:name'] not in dict_activites_case:\n",
        "                dict_activites_case[event['concept:name']] = True\n",
        "\n",
        "        for key in dict_activites_case.keys():\n",
        "            if key in dict_activities_count_log:\n",
        "                dict_activities_count_log[key] +=1\n",
        "            else:\n",
        "                dict_activities_count_log[key] =1\n",
        "    return dict_activities_count_log\n"
      ]
    },
    {
      "cell_type": "code",
      "execution_count": null,
      "id": "4f7cc571",
      "metadata": {
        "ExecuteTime": {
          "end_time": "2022-03-08T11:15:29.693407Z",
          "start_time": "2022-03-08T11:15:29.686238Z"
        },
        "id": "4f7cc571",
        "colab": {
          "base_uri": "https://localhost:8080/"
        },
        "outputId": "c83f12b4-3096-4daf-96d3-0ef2ed404f88"
      },
      "outputs": [
        {
          "output_type": "stream",
          "name": "stdout",
          "text": [
            "time: 11.3 ms (started: 2022-03-24 10:53:08 +00:00)\n"
          ]
        }
      ],
      "source": [
        "#     support is computed as the total number of time the rule appreas in the log divided by the log length, \n",
        "#      not if the rule appear twice in a trace we only consider it once\n",
        "def get_support_feature(declare_df:pd.DataFrame,log:EventLog)->pd.DataFrame:\n",
        "    dict_df = {'rule':declare_df.columns}\n",
        "    declare_rule_support = pd.DataFrame(dict_df)\n",
        "    declare_rule_support['support'] = 0\n",
        "    \n",
        "    log_leng = log_len(log)\n",
        "    for col in declare_df.columns:\n",
        "        distinct_cnt_rule = declare_df[declare_df[col]!=0].shape[0]\n",
        "        support_rule_value = distinct_cnt_rule/log_leng\n",
        "        declare_rule_support.loc[declare_rule_support['rule']==col,['support']] = support_rule_value\n",
        "        \n",
        "    return declare_rule_support\n",
        "\n",
        "    "
      ]
    },
    {
      "cell_type": "code",
      "execution_count": null,
      "id": "97bfd5a9",
      "metadata": {
        "ExecuteTime": {
          "end_time": "2022-03-08T11:15:30.251651Z",
          "start_time": "2022-03-08T11:15:30.239881Z"
        },
        "id": "97bfd5a9",
        "colab": {
          "base_uri": "https://localhost:8080/"
        },
        "outputId": "25ab979b-e4e3-40c7-c529-f079f49ada79"
      },
      "outputs": [
        {
          "output_type": "stream",
          "name": "stdout",
          "text": [
            "time: 41.5 ms (started: 2022-03-24 10:53:08 +00:00)\n"
          ]
        }
      ],
      "source": [
        "# event E  preceeded F \n",
        "# naming convention ex: (event_e,event_f)_prec ==> event_e came before event_f\n",
        "# actecedent : event[1]\n",
        "# consequent : event[0]\n",
        "\n",
        "def get_confidence_and_interest_factor(support_df:pd.DataFrame,log:EventLog)->pd.DataFrame:\n",
        "    support_df['confidence'] = 0\n",
        "    support_df['interest_factor'] = 0\n",
        "    \n",
        "    rules = support_df['rule']\n",
        "    activities_support_log = support_log(log)\n",
        "    \n",
        "    for rule in rules:\n",
        "        support_rule = support_df.loc[support_df['rule']==rule,['support']] \n",
        "        tuple_str = rule.split(\"_\")[0]\n",
        "        events = tuple_str.split(\", \")\n",
        "        event_e = events[0].split(\"'\")[1]\n",
        "        event_f = events[1].split(\"'\")[1]\n",
        "        \n",
        "        support_ante = 0\n",
        "        support_conseq = 0\n",
        "        if 'co_existence' in rule:\n",
        "            support_ante = max(activities_support_log[event_e], activities_support_log[event_f])\n",
        "            support_conseq = max(activities_support_log[event_e], activities_support_log[event_f]) \n",
        "        elif '_response' in rule:\n",
        "            support_ante = activities_support_log[event_e]\n",
        "            support_conseq = activities_support_log[event_f]\n",
        "        else:\n",
        "            support_ante = activities_support_log[event_f]\n",
        "            support_conseq = activities_support_log[event_e]\n",
        "            \n",
        "        confidence =  support_rule/support_ante\n",
        "        interest_factor = support_rule/(support_conseq*support_ante)\n",
        "        \n",
        "        support_df.loc[support_df['rule']==rule,['confidence','interest_factor']] = confidence, interest_factor\n",
        "        \n",
        "    return support_df\n",
        "            \n",
        "    "
      ]
    },
    {
      "cell_type": "code",
      "execution_count": null,
      "id": "07e727e2",
      "metadata": {
        "ExecuteTime": {
          "end_time": "2022-03-08T11:15:30.883722Z",
          "start_time": "2022-03-08T11:15:30.877038Z"
        },
        "id": "07e727e2",
        "colab": {
          "base_uri": "https://localhost:8080/"
        },
        "outputId": "8b29fdb1-9405-4475-d5dc-ae8f73ee2cc3"
      },
      "outputs": [
        {
          "output_type": "stream",
          "name": "stdout",
          "text": [
            "time: 7.04 ms (started: 2022-03-24 10:53:08 +00:00)\n"
          ]
        }
      ],
      "source": [
        "# format of the threshold paramter {'support':0.04, 'confidence':0.0, 'interest_factor':0.0 }\n",
        "def filter_rules(declare_df:pd.DataFrame,log:EventLog, threshold:Optional[dict] = None)->pd.DataFrame:\n",
        "    \n",
        "    default_threshold = {'support':0.10}\n",
        "    if threshold:\n",
        "        default_threshold = threshold\n",
        "    \n",
        "    support_df = get_support_feature(declare_df,log)\n",
        "    metrics_rule = get_confidence_and_interest_factor(support_df,log)\n",
        "    \n",
        "    for metric, value in default_threshold.items():\n",
        "        metrics_rule = metrics_rule[metrics_rule[metric]>=value]\n",
        "    \n",
        "    return metrics_rule\n",
        "    \n",
        "    "
      ]
    },
    {
      "cell_type": "code",
      "execution_count": null,
      "id": "8cd90102",
      "metadata": {
        "ExecuteTime": {
          "end_time": "2022-03-08T11:15:31.345507Z",
          "start_time": "2022-03-08T11:15:31.338378Z"
        },
        "id": "8cd90102",
        "colab": {
          "base_uri": "https://localhost:8080/"
        },
        "outputId": "e11b1a66-8d15-49d2-c256-d0b4d747b5ec"
      },
      "outputs": [
        {
          "output_type": "stream",
          "name": "stdout",
          "text": [
            "time: 5.72 ms (started: 2022-03-24 10:53:08 +00:00)\n"
          ]
        }
      ],
      "source": [
        "def negative_correlated(features_df:pd.DataFrame, target:pd.DataFrame)->pd.DataFrame:\n",
        "    dict_positive_correlated ={}\n",
        "    for col in features_df.columns:\n",
        "        if features_df[col].corr(target['target']) < 0:\n",
        "            dict_positive_correlated[col] = features_df[col].corr(target['target'])\n",
        "            \n",
        "    dict_positive_correlated = dict(sorted(dict_positive_correlated.items(), key=lambda item: item[1]))\n",
        "    return pd.DataFrame(dict_positive_correlated.items(), columns=['feature', 'correlation_value'])"
      ]
    },
    {
      "cell_type": "code",
      "execution_count": null,
      "id": "d10fcdec",
      "metadata": {
        "ExecuteTime": {
          "end_time": "2022-03-08T11:15:31.942279Z",
          "start_time": "2022-03-08T11:15:31.935119Z"
        },
        "id": "d10fcdec",
        "colab": {
          "base_uri": "https://localhost:8080/"
        },
        "outputId": "25cbe510-d5ef-4b59-b9b4-4496cdbcacc3"
      },
      "outputs": [
        {
          "output_type": "stream",
          "name": "stdout",
          "text": [
            "time: 5.79 ms (started: 2022-03-24 10:53:08 +00:00)\n"
          ]
        }
      ],
      "source": [
        "def positive_correlated(features_df:pd.DataFrame, target:pd.DataFrame)->pd.DataFrame:\n",
        "    dict_positive_correlated ={}\n",
        "    for col in features_df.columns:\n",
        "        if features_df[col].corr(target['target']) > 0:\n",
        "            dict_positive_correlated[col] = features_df[col].corr(target['target'])\n",
        "            \n",
        "    dict_positive_correlated = dict(sorted(dict_positive_correlated.items(), key=lambda item: item[1]))\n",
        "    return pd.DataFrame(dict_positive_correlated.items(), columns=['feature', 'correlation_value'])"
      ]
    },
    {
      "cell_type": "markdown",
      "id": "5d41eb94",
      "metadata": {
        "id": "5d41eb94"
      },
      "source": [
        "# Generating Dataset"
      ]
    },
    {
      "cell_type": "code",
      "execution_count": null,
      "id": "17e666d5",
      "metadata": {
        "ExecuteTime": {
          "end_time": "2022-03-08T11:15:33.113913Z",
          "start_time": "2022-03-08T11:15:33.106376Z"
        },
        "id": "17e666d5",
        "colab": {
          "base_uri": "https://localhost:8080/"
        },
        "outputId": "66ae471b-2809-4005-f904-21d0f96d6658"
      },
      "outputs": [
        {
          "output_type": "stream",
          "name": "stdout",
          "text": [
            "time: 12.9 ms (started: 2022-03-24 10:53:08 +00:00)\n"
          ]
        }
      ],
      "source": [
        "def generate_dataset(log:EventLog, boolean_data=False)->pd.DataFrame:\n",
        "    if boolean_data:\n",
        "        co_existence_df = co_existence_boolean(log)\n",
        "        precedence_df = precedence_bool_v2(log)\n",
        "        response_df = response_boolean_v2(log)\n",
        "        declare_df = [co_existence_df, precedence_df, response_df]\n",
        "        declare_df = pd.concat(declare_df, axis=1)\n",
        "        return declare_df\n",
        "    \n",
        "    co_existence_df = co_existence(log)\n",
        "    precedence_df = precedence(log)\n",
        "    response_df = response(log)\n",
        "    declare_df = [co_existence_df, precedence_df, response_df]\n",
        "    declare_df = pd.concat(declare_df, axis=1)\n",
        "    return declare_df\n",
        "    \n",
        "        \n",
        "        "
      ]
    },
    {
      "cell_type": "code",
      "execution_count": null,
      "id": "6910fed2",
      "metadata": {
        "ExecuteTime": {
          "end_time": "2022-03-08T11:21:19.105952Z",
          "start_time": "2022-03-08T11:21:08.129546Z"
        },
        "id": "6910fed2",
        "colab": {
          "base_uri": "https://localhost:8080/"
        },
        "outputId": "85c629f9-14e8-464e-e892-047ed31d3f9a"
      },
      "outputs": [
        {
          "output_type": "stream",
          "name": "stdout",
          "text": [
            "time: 34.4 s (started: 2022-03-24 10:53:08 +00:00)\n"
          ]
        }
      ],
      "source": [
        "declare_df_boolean = generate_dataset(log, True)"
      ]
    },
    {
      "cell_type": "code",
      "execution_count": null,
      "id": "58827e49",
      "metadata": {
        "ExecuteTime": {
          "end_time": "2022-03-06T14:20:14.707223Z",
          "start_time": "2022-03-06T14:20:14.688565Z"
        },
        "id": "58827e49",
        "colab": {
          "base_uri": "https://localhost:8080/"
        },
        "outputId": "729da139-1c07-49c9-f525-4100b1a71148"
      },
      "outputs": [
        {
          "output_type": "stream",
          "name": "stdout",
          "text": [
            "time: 2.35 ms (started: 2022-03-24 10:53:42 +00:00)\n"
          ]
        }
      ],
      "source": [
        "target = pd.DataFrame(target,columns = ['target'])"
      ]
    },
    {
      "cell_type": "code",
      "execution_count": null,
      "id": "1ce6f820",
      "metadata": {
        "ExecuteTime": {
          "end_time": "2022-03-08T11:21:29.978350Z",
          "start_time": "2022-03-08T11:21:29.969954Z"
        },
        "colab": {
          "base_uri": "https://localhost:8080/"
        },
        "id": "1ce6f820",
        "outputId": "4112cc60-2fd7-4cdd-b0e1-8b562fd14419"
      },
      "outputs": [
        {
          "output_type": "stream",
          "name": "stdout",
          "text": [
            "Percentage of Positive target 81.47%\n",
            "time: 13.3 ms (started: 2022-03-24 10:53:42 +00:00)\n"
          ]
        }
      ],
      "source": [
        "print(\"Percentage of Positive target {:.2f}%\".format((target.value_counts()[1]/target.shape[0])*100))"
      ]
    },
    {
      "cell_type": "markdown",
      "id": "be031f23",
      "metadata": {
        "id": "be031f23"
      },
      "source": [
        "# Pre-processing"
      ]
    },
    {
      "cell_type": "code",
      "execution_count": null,
      "id": "d256383e",
      "metadata": {
        "ExecuteTime": {
          "end_time": "2022-03-08T11:21:31.763491Z",
          "start_time": "2022-03-08T11:21:31.757736Z"
        },
        "id": "d256383e",
        "colab": {
          "base_uri": "https://localhost:8080/"
        },
        "outputId": "7390a83f-ea4a-4004-ecc3-a923f2faa642"
      },
      "outputs": [
        {
          "output_type": "stream",
          "name": "stdout",
          "text": [
            "time: 4.64 ms (started: 2022-03-24 10:53:42 +00:00)\n"
          ]
        }
      ],
      "source": [
        "def pre_process(declare_df:pd.DataFrame,log:EventLog, threshold:Optional[dict] = None)->pd.DataFrame:\n",
        "    declare_df = declare_df.loc[:, (declare_df != 0).any(axis=0)]\n",
        "    filtered_rules = filter_rules(declare_df,log)\n",
        "    \n",
        "    return declare_df[filtered_rules['rule']]"
      ]
    },
    {
      "cell_type": "markdown",
      "id": "29dd5ee9",
      "metadata": {
        "ExecuteTime": {
          "end_time": "2022-03-04T06:57:15.375973Z",
          "start_time": "2022-03-04T06:57:15.371214Z"
        },
        "id": "29dd5ee9"
      },
      "source": [
        "# Xgboost"
      ]
    },
    {
      "cell_type": "code",
      "execution_count": null,
      "id": "5b775c0a",
      "metadata": {
        "ExecuteTime": {
          "end_time": "2022-03-08T11:21:37.547220Z",
          "start_time": "2022-03-08T11:21:37.072301Z"
        },
        "id": "5b775c0a",
        "colab": {
          "base_uri": "https://localhost:8080/"
        },
        "outputId": "a0f02e8e-789f-4f13-f305-109e78be3859"
      },
      "outputs": [
        {
          "output_type": "stream",
          "name": "stdout",
          "text": [
            "time: 1.22 s (started: 2022-03-24 10:53:42 +00:00)\n"
          ]
        }
      ],
      "source": [
        "declare_df_boolean_non_zero = pre_process(declare_df_boolean, log)"
      ]
    },
    {
      "cell_type": "code",
      "execution_count": null,
      "id": "0c753531",
      "metadata": {
        "ExecuteTime": {
          "end_time": "2022-03-08T11:21:38.342669Z",
          "start_time": "2022-03-08T11:21:38.336825Z"
        },
        "colab": {
          "base_uri": "https://localhost:8080/"
        },
        "id": "0c753531",
        "outputId": "5bfd4493-f91c-4c13-9e7b-21322e6f72e0"
      },
      "outputs": [
        {
          "output_type": "execute_result",
          "data": {
            "text/plain": [
              "(24641, 39)"
            ]
          },
          "metadata": {},
          "execution_count": 41
        },
        {
          "output_type": "stream",
          "name": "stdout",
          "text": [
            "time: 5.72 ms (started: 2022-03-24 10:53:43 +00:00)\n"
          ]
        }
      ],
      "source": [
        "declare_df_boolean_non_zero.shape"
      ]
    },
    {
      "cell_type": "code",
      "execution_count": null,
      "id": "baa5ad85",
      "metadata": {
        "ExecuteTime": {
          "end_time": "2022-03-08T11:21:39.436929Z",
          "start_time": "2022-03-08T11:21:39.430918Z"
        },
        "colab": {
          "base_uri": "https://localhost:8080/"
        },
        "id": "baa5ad85",
        "outputId": "dd6fcba2-42ab-44da-f9d2-0bdde10ff639"
      },
      "outputs": [
        {
          "output_type": "execute_result",
          "data": {
            "text/plain": [
              "(24641, 275)"
            ]
          },
          "metadata": {},
          "execution_count": 42
        },
        {
          "output_type": "stream",
          "name": "stdout",
          "text": [
            "time: 4.79 ms (started: 2022-03-24 10:53:43 +00:00)\n"
          ]
        }
      ],
      "source": [
        "declare_df_boolean.shape"
      ]
    },
    {
      "cell_type": "markdown",
      "id": "1da7f47b",
      "metadata": {
        "id": "1da7f47b"
      },
      "source": [
        "# SHAP values"
      ]
    },
    {
      "cell_type": "code",
      "execution_count": null,
      "id": "e3d6f21e",
      "metadata": {
        "ExecuteTime": {
          "end_time": "2022-03-08T11:17:05.631369Z",
          "start_time": "2022-03-08T11:17:05.628566Z"
        },
        "id": "e3d6f21e",
        "colab": {
          "base_uri": "https://localhost:8080/"
        },
        "outputId": "086d6da5-bef1-4d90-a31f-f2353218c323"
      },
      "outputs": [
        {
          "output_type": "stream",
          "name": "stdout",
          "text": [
            "time: 907 µs (started: 2022-03-24 10:53:44 +00:00)\n"
          ]
        }
      ],
      "source": [
        "# train the model first to be able to run the upcomming cell"
      ]
    },
    {
      "cell_type": "code",
      "execution_count": null,
      "id": "d547d470",
      "metadata": {
        "ExecuteTime": {
          "end_time": "2022-03-08T11:21:50.399558Z",
          "start_time": "2022-03-08T11:21:45.326368Z"
        },
        "id": "d547d470",
        "outputId": "a7ca8c04-3fb0-4859-d085-82c5f0394777",
        "colab": {
          "base_uri": "https://localhost:8080/"
        }
      },
      "outputs": [
        {
          "output_type": "stream",
          "name": "stderr",
          "text": [
            "A column-vector y was passed when a 1d array was expected. Please change the shape of y to (n_samples, ), for example using ravel().\n",
            "A column-vector y was passed when a 1d array was expected. Please change the shape of y to (n_samples, ), for example using ravel().\n"
          ]
        },
        {
          "output_type": "stream",
          "name": "stdout",
          "text": [
            "time: 3.3 s (started: 2022-03-24 10:53:44 +00:00)\n"
          ]
        }
      ],
      "source": [
        "model = XGBClassifier(use_label_encoder=False)\n",
        "model.fit(declare_df_boolean_non_zero, target)\n",
        "explainer = shap.TreeExplainer(model)\n",
        "shap_values = explainer.shap_values(declare_df_boolean_non_zero)"
      ]
    },
    {
      "cell_type": "code",
      "execution_count": null,
      "id": "70c8f8e2",
      "metadata": {
        "ExecuteTime": {
          "end_time": "2022-03-08T11:21:50.993121Z",
          "start_time": "2022-03-08T11:21:50.401111Z"
        },
        "id": "70c8f8e2",
        "colab": {
          "base_uri": "https://localhost:8080/"
        },
        "outputId": "e381e656-bb98-4f10-f1d6-65ee8e6387c7"
      },
      "outputs": [
        {
          "output_type": "stream",
          "name": "stdout",
          "text": [
            "time: 1.03 s (started: 2022-03-17 11:28:10 +00:00)\n"
          ]
        }
      ],
      "source": [
        "shap_values_obj = explainer(declare_df_boolean_non_zero)"
      ]
    },
    {
      "cell_type": "code",
      "execution_count": null,
      "id": "efac8519",
      "metadata": {
        "ExecuteTime": {
          "end_time": "2022-03-08T11:21:53.809735Z",
          "start_time": "2022-03-08T11:21:50.994641Z"
        },
        "id": "efac8519",
        "outputId": "1aa1bbb8-b53c-4101-c5b4-e5e1e33b594d",
        "colab": {
          "base_uri": "https://localhost:8080/",
          "height": 603
        }
      },
      "outputs": [
        {
          "output_type": "display_data",
          "data": {
            "text/plain": [
              "<Figure size 576x684 with 2 Axes>"
            ],
            "image/png": "[encoded data removed]"
          },
          "metadata": {
            "needs_background": "light"
          }
        },
        {
          "output_type": "stream",
          "name": "stdout",
          "text": [
            "time: 4.74 s (started: 2022-03-17 11:28:11 +00:00)\n"
          ]
        }
      ],
      "source": [
        "shap.summary_plot(shap_values, declare_df_boolean_non_zero)"
      ]
    },
    {
      "cell_type": "code",
      "execution_count": null,
      "id": "5550309d",
      "metadata": {
        "ExecuteTime": {
          "end_time": "2022-03-06T18:35:42.789819Z",
          "start_time": "2022-03-06T18:35:20.173181Z"
        },
        "id": "5550309d"
      },
      "outputs": [],
      "source": [
        "for col in declare_df_boolean_non_zero.columns: \n",
        "#     value_25 = declare_df_non_zero[col].describe()['25%']\n",
        "#     value_75 = declare_df_non_zero[col].describe()['75%']\n",
        "    \n",
        "    shap.plots.partial_dependence(\n",
        "        col , model.predict, declare_df_boolean_non_zero, ice=False,\n",
        "        model_expected_value=True, feature_expected_value=True\n",
        "    )\n",
        "\n",
        "#     shap.plots.partial_dependence(\n",
        "#         col , model.predict, declare_df_non_zero[(declare_df_non_zero[col]>=value_25)&(declare_df_non_zero[col]<=value_75)], ice=False,\n",
        "#         model_expected_value=True, feature_expected_value=True\n",
        "#     )"
      ]
    },
    {
      "cell_type": "code",
      "execution_count": null,
      "id": "13edd03b",
      "metadata": {
        "ExecuteTime": {
          "end_time": "2022-03-06T18:37:49.848560Z",
          "start_time": "2022-03-06T18:37:49.840937Z"
        },
        "id": "13edd03b",
        "outputId": "3126126c-3bf3-4f6d-c8c2-0d8ecf467d9b",
        "colab": {
          "base_uri": "https://localhost:8080/"
        }
      },
      "outputs": [
        {
          "output_type": "execute_result",
          "data": {
            "text/plain": [
              "('T02 Check confirmation of receipt', 'T06 Determine necessity of stop advice')_precedence                 1\n",
              "('Confirmation of receipt', 'T05 Print and send confirmation of receipt')_precedence                       1\n",
              "('T02 Check confirmation of receipt', 'T05 Print and send confirmation of receipt')_precedence             1\n",
              "('T04 Determine confirmation of receipt', 'T06 Determine necessity of stop advice')_precedence             1\n",
              "('T10 Determine necessity to stop indication', 'T02 Check confirmation of receipt')_precedence             0\n",
              "('Confirmation of receipt', 'T02 Check confirmation of receipt')_precedence                                1\n",
              "('T02 Check confirmation of receipt', 'T10 Determine necessity to stop indication')_precedence             1\n",
              "('T10 Determine necessity to stop indication', 'T04 Determine confirmation of receipt')_precedence         0\n",
              "('T06 Determine necessity of stop advice', 'T10 Determine necessity to stop indication')_precedence        1\n",
              "('T06 Determine necessity of stop advice', 'T02 Check confirmation of receipt')_precedence                 0\n",
              "('T06 Determine necessity of stop advice', 'T05 Print and send confirmation of receipt')_precedence        0\n",
              "('T06 Determine necessity of stop advice', 'T04 Determine confirmation of receipt')_precedence             0\n",
              "('Confirmation of receipt', 'T06 Determine necessity of stop advice')_precedence                           1\n",
              "('Confirmation of receipt', 'T10 Determine necessity to stop indication')_precedence                       1\n",
              "('T05 Print and send confirmation of receipt', 'T10 Determine necessity to stop indication')_precedence    1\n",
              "('T02 Check confirmation of receipt', 'T04 Determine confirmation of receipt')_precedence                  1\n",
              "('T10 Determine necessity to stop indication', 'T05 Print and send confirmation of receipt')_precedence    0\n",
              "('T04 Determine confirmation of receipt', 'T05 Print and send confirmation of receipt')_precedence         1\n",
              "('Confirmation of receipt', 'T04 Determine confirmation of receipt')_precedence                            1\n",
              "('T05 Print and send confirmation of receipt', 'T06 Determine necessity of stop advice')_precedence        1\n",
              "('T04 Determine confirmation of receipt', 'T10 Determine necessity to stop indication')_precedence         1\n",
              "('Confirmation of receipt', 'T02 Check confirmation of receipt')_response                                  1\n",
              "('Confirmation of receipt', 'T10 Determine necessity to stop indication')_response                         1\n",
              "('T06 Determine necessity of stop advice', 'T02 Check confirmation of receipt')_response                   0\n",
              "('T10 Determine necessity to stop indication', 'T02 Check confirmation of receipt')_response               0\n",
              "('Confirmation of receipt', 'T06 Determine necessity of stop advice')_response                             1\n",
              "('T04 Determine confirmation of receipt', 'T10 Determine necessity to stop indication')_response           1\n",
              "('T02 Check confirmation of receipt', 'T10 Determine necessity to stop indication')_response               1\n",
              "('T10 Determine necessity to stop indication', 'T04 Determine confirmation of receipt')_response           0\n",
              "('T05 Print and send confirmation of receipt', 'T06 Determine necessity of stop advice')_response          1\n",
              "('T06 Determine necessity of stop advice', 'T10 Determine necessity to stop indication')_response          1\n",
              "('T04 Determine confirmation of receipt', 'T05 Print and send confirmation of receipt')_response           1\n",
              "('T02 Check confirmation of receipt', 'T05 Print and send confirmation of receipt')_response               1\n",
              "('T04 Determine confirmation of receipt', 'T06 Determine necessity of stop advice')_response               1\n",
              "('T06 Determine necessity of stop advice', 'T05 Print and send confirmation of receipt')_response          0\n",
              "('T05 Print and send confirmation of receipt', 'T10 Determine necessity to stop indication')_response      1\n",
              "('T06 Determine necessity of stop advice', 'T04 Determine confirmation of receipt')_response               0\n",
              "('T10 Determine necessity to stop indication', 'T05 Print and send confirmation of receipt')_response      0\n",
              "('T02 Check confirmation of receipt', 'T04 Determine confirmation of receipt')_response                    1\n",
              "('Confirmation of receipt', 'T05 Print and send confirmation of receipt')_response                         1\n",
              "('T02 Check confirmation of receipt', 'T06 Determine necessity of stop advice')_response                   1\n",
              "('Confirmation of receipt', 'T04 Determine confirmation of receipt')_response                              1\n",
              "Name: 4, dtype: int64"
            ]
          },
          "metadata": {},
          "execution_count": 78
        }
      ],
      "source": [
        "declare_df_boolean_non_zero.iloc[4,:]"
      ]
    },
    {
      "cell_type": "code",
      "execution_count": null,
      "id": "b2ba6b12",
      "metadata": {
        "ExecuteTime": {
          "end_time": "2022-03-06T18:38:02.636165Z",
          "start_time": "2022-03-06T18:38:02.016677Z"
        },
        "id": "b2ba6b12",
        "outputId": "dd2ee517-2d76-4829-ea6e-6b05ce12e24f",
        "colab": {
          "base_uri": "https://localhost:8080/",
          "height": 444
        }
      },
      "outputs": [
        {
          "output_type": "display_data",
          "data": {
            "text/plain": [
              "<Figure size 576x468 with 3 Axes>"
            ],
            "image/png": "[encoded data removed]"
          },
          "metadata": {}
        }
      ],
      "source": [
        "shap.plots.waterfall(shap_values_obj[4])"
      ]
    },
    {
      "cell_type": "code",
      "execution_count": null,
      "id": "080f6d3a",
      "metadata": {
        "ExecuteTime": {
          "end_time": "2022-03-06T18:38:11.343890Z",
          "start_time": "2022-03-06T18:38:11.331097Z"
        },
        "id": "080f6d3a",
        "outputId": "f203a336-a5ca-4009-b9fc-2535cff132ec",
        "colab": {
          "base_uri": "https://localhost:8080/"
        }
      },
      "outputs": [
        {
          "output_type": "execute_result",
          "data": {
            "text/plain": [
              "('T02 Check confirmation of receipt', 'T06 Determine necessity of stop advice')_precedence                 1\n",
              "('Confirmation of receipt', 'T05 Print and send confirmation of receipt')_precedence                       1\n",
              "('T02 Check confirmation of receipt', 'T05 Print and send confirmation of receipt')_precedence             1\n",
              "('T04 Determine confirmation of receipt', 'T06 Determine necessity of stop advice')_precedence             1\n",
              "('T10 Determine necessity to stop indication', 'T02 Check confirmation of receipt')_precedence             0\n",
              "('Confirmation of receipt', 'T02 Check confirmation of receipt')_precedence                                1\n",
              "('T02 Check confirmation of receipt', 'T10 Determine necessity to stop indication')_precedence             1\n",
              "('T10 Determine necessity to stop indication', 'T04 Determine confirmation of receipt')_precedence         0\n",
              "('T06 Determine necessity of stop advice', 'T10 Determine necessity to stop indication')_precedence        1\n",
              "('T06 Determine necessity of stop advice', 'T02 Check confirmation of receipt')_precedence                 0\n",
              "('T06 Determine necessity of stop advice', 'T05 Print and send confirmation of receipt')_precedence        0\n",
              "('T06 Determine necessity of stop advice', 'T04 Determine confirmation of receipt')_precedence             0\n",
              "('Confirmation of receipt', 'T06 Determine necessity of stop advice')_precedence                           1\n",
              "('Confirmation of receipt', 'T10 Determine necessity to stop indication')_precedence                       1\n",
              "('T05 Print and send confirmation of receipt', 'T10 Determine necessity to stop indication')_precedence    1\n",
              "('T02 Check confirmation of receipt', 'T04 Determine confirmation of receipt')_precedence                  1\n",
              "('T10 Determine necessity to stop indication', 'T05 Print and send confirmation of receipt')_precedence    0\n",
              "('T04 Determine confirmation of receipt', 'T05 Print and send confirmation of receipt')_precedence         1\n",
              "('Confirmation of receipt', 'T04 Determine confirmation of receipt')_precedence                            1\n",
              "('T05 Print and send confirmation of receipt', 'T06 Determine necessity of stop advice')_precedence        1\n",
              "('T04 Determine confirmation of receipt', 'T10 Determine necessity to stop indication')_precedence         1\n",
              "('Confirmation of receipt', 'T02 Check confirmation of receipt')_response                                  1\n",
              "('Confirmation of receipt', 'T10 Determine necessity to stop indication')_response                         1\n",
              "('T06 Determine necessity of stop advice', 'T02 Check confirmation of receipt')_response                   0\n",
              "('T10 Determine necessity to stop indication', 'T02 Check confirmation of receipt')_response               0\n",
              "('Confirmation of receipt', 'T06 Determine necessity of stop advice')_response                             1\n",
              "('T04 Determine confirmation of receipt', 'T10 Determine necessity to stop indication')_response           1\n",
              "('T02 Check confirmation of receipt', 'T10 Determine necessity to stop indication')_response               1\n",
              "('T10 Determine necessity to stop indication', 'T04 Determine confirmation of receipt')_response           0\n",
              "('T05 Print and send confirmation of receipt', 'T06 Determine necessity of stop advice')_response          1\n",
              "('T06 Determine necessity of stop advice', 'T10 Determine necessity to stop indication')_response          1\n",
              "('T04 Determine confirmation of receipt', 'T05 Print and send confirmation of receipt')_response           1\n",
              "('T02 Check confirmation of receipt', 'T05 Print and send confirmation of receipt')_response               1\n",
              "('T04 Determine confirmation of receipt', 'T06 Determine necessity of stop advice')_response               1\n",
              "('T06 Determine necessity of stop advice', 'T05 Print and send confirmation of receipt')_response          0\n",
              "('T05 Print and send confirmation of receipt', 'T10 Determine necessity to stop indication')_response      1\n",
              "('T06 Determine necessity of stop advice', 'T04 Determine confirmation of receipt')_response               0\n",
              "('T10 Determine necessity to stop indication', 'T05 Print and send confirmation of receipt')_response      0\n",
              "('T02 Check confirmation of receipt', 'T04 Determine confirmation of receipt')_response                    1\n",
              "('Confirmation of receipt', 'T05 Print and send confirmation of receipt')_response                         1\n",
              "('T02 Check confirmation of receipt', 'T06 Determine necessity of stop advice')_response                   1\n",
              "('Confirmation of receipt', 'T04 Determine confirmation of receipt')_response                              1\n",
              "Name: 14, dtype: int64"
            ]
          },
          "metadata": {},
          "execution_count": 80
        }
      ],
      "source": [
        "declare_df_boolean_non_zero.iloc[14,:]"
      ]
    },
    {
      "cell_type": "code",
      "execution_count": null,
      "id": "0f3ee16e",
      "metadata": {
        "ExecuteTime": {
          "end_time": "2022-03-06T18:38:21.601480Z",
          "start_time": "2022-03-06T18:38:21.124611Z"
        },
        "id": "0f3ee16e",
        "outputId": "29e89ef4-de68-4ea2-ef27-f2f9710ba2e6",
        "colab": {
          "base_uri": "https://localhost:8080/",
          "height": 444
        }
      },
      "outputs": [
        {
          "output_type": "display_data",
          "data": {
            "text/plain": [
              "<Figure size 576x468 with 3 Axes>"
            ],
            "image/png": "[encoded data removed]"
          },
          "metadata": {}
        }
      ],
      "source": [
        "shap.plots.waterfall(shap_values_obj[14])"
      ]
    },
    {
      "cell_type": "code",
      "execution_count": null,
      "id": "5586a8df",
      "metadata": {
        "ExecuteTime": {
          "end_time": "2022-03-06T18:38:32.596602Z",
          "start_time": "2022-03-06T18:38:30.811462Z"
        },
        "id": "5586a8df"
      },
      "outputs": [],
      "source": [
        "for col in declare_df_boolean_non_zero.columns:\n",
        "    shap.dependence_plot(col, shap_values, declare_df_boolean_non_zero, interaction_index=None,alpha=0.1)"
      ]
    },
    {
      "cell_type": "markdown",
      "source": [
        "# **Evaluting Xbgoost model**\n",
        "\n",
        "---\n",
        "\n"
      ],
      "metadata": {
        "id": "10RTLaSEyzaa"
      },
      "id": "10RTLaSEyzaa"
    },
    {
      "cell_type": "code",
      "source": [
        "from sklearn.model_selection import train_test_split\n",
        "X_train, X_test, y_train, y_test = train_test_split(declare_df_boolean_non_zero, target, test_size=0.30, random_state=42)"
      ],
      "metadata": {
        "colab": {
          "base_uri": "https://localhost:8080/"
        },
        "id": "D3zrgRmgzaly",
        "outputId": "9a78df7d-9d8a-4ee6-f047-af7a895a124f"
      },
      "id": "D3zrgRmgzaly",
      "execution_count": null,
      "outputs": [
        {
          "output_type": "stream",
          "name": "stdout",
          "text": [
            "time: 15.7 ms (started: 2022-03-24 10:53:47 +00:00)\n"
          ]
        }
      ]
    },
    {
      "cell_type": "code",
      "source": [
        "model_eval = XGBClassifier(use_label_encoder=False)\n",
        "model_eval.fit(X_train, y_train)"
      ],
      "metadata": {
        "colab": {
          "base_uri": "https://localhost:8080/"
        },
        "id": "G3QGcyPTyqXB",
        "outputId": "bf784a5e-6863-491e-c572-85e28ce7d8bb"
      },
      "id": "G3QGcyPTyqXB",
      "execution_count": null,
      "outputs": [
        {
          "output_type": "stream",
          "name": "stderr",
          "text": [
            "A column-vector y was passed when a 1d array was expected. Please change the shape of y to (n_samples, ), for example using ravel().\n",
            "A column-vector y was passed when a 1d array was expected. Please change the shape of y to (n_samples, ), for example using ravel().\n"
          ]
        },
        {
          "output_type": "execute_result",
          "data": {
            "text/plain": [
              "XGBClassifier(use_label_encoder=False)"
            ]
          },
          "metadata": {},
          "execution_count": 46
        },
        {
          "output_type": "stream",
          "name": "stdout",
          "text": [
            "time: 1.69 s (started: 2022-03-24 10:53:47 +00:00)\n"
          ]
        }
      ]
    },
    {
      "cell_type": "code",
      "source": [
        "predictions = model_eval.predict(X_test)"
      ],
      "metadata": {
        "colab": {
          "base_uri": "https://localhost:8080/"
        },
        "id": "kgT-ozeT0gGj",
        "outputId": "227e5265-249d-4ce9-a36b-1e4078c001a7"
      },
      "id": "kgT-ozeT0gGj",
      "execution_count": null,
      "outputs": [
        {
          "output_type": "stream",
          "name": "stdout",
          "text": [
            "time: 23.8 ms (started: 2022-03-24 10:53:49 +00:00)\n"
          ]
        }
      ]
    },
    {
      "cell_type": "code",
      "source": [
        "from sklearn.metrics import confusion_matrix\n",
        "tn, fp, fn, tp = confusion_matrix(y_test,predictions).ravel()"
      ],
      "metadata": {
        "colab": {
          "base_uri": "https://localhost:8080/"
        },
        "id": "bUoIZ_fL0qIl",
        "outputId": "817e8bf2-edbb-4812-d02d-67968b931296"
      },
      "id": "bUoIZ_fL0qIl",
      "execution_count": null,
      "outputs": [
        {
          "output_type": "stream",
          "name": "stdout",
          "text": [
            "time: 7.23 ms (started: 2022-03-24 10:53:53 +00:00)\n"
          ]
        }
      ]
    },
    {
      "cell_type": "code",
      "source": [
        "tn, fp, fn, tp"
      ],
      "metadata": {
        "colab": {
          "base_uri": "https://localhost:8080/"
        },
        "id": "3HXBJrGwZL95",
        "outputId": "3d5d0a5e-3b23-42e1-ac1b-178077da98c9"
      },
      "id": "3HXBJrGwZL95",
      "execution_count": null,
      "outputs": [
        {
          "output_type": "execute_result",
          "data": {
            "text/plain": [
              "(1304, 71, 0, 6018)"
            ]
          },
          "metadata": {},
          "execution_count": 49
        },
        {
          "output_type": "stream",
          "name": "stdout",
          "text": [
            "time: 3.67 ms (started: 2022-03-24 10:53:54 +00:00)\n"
          ]
        }
      ]
    },
    {
      "cell_type": "code",
      "source": [
        "print(precision_score(y_test,predictions))"
      ],
      "metadata": {
        "colab": {
          "base_uri": "https://localhost:8080/"
        },
        "id": "X49vLn661Bvv",
        "outputId": "a8bc5d7e-d5a6-4b59-b4ed-6655374510e7"
      },
      "id": "X49vLn661Bvv",
      "execution_count": null,
      "outputs": [
        {
          "output_type": "stream",
          "name": "stdout",
          "text": [
            "0.9883396288388898\n",
            "time: 10.5 ms (started: 2022-03-24 10:53:54 +00:00)\n"
          ]
        }
      ]
    },
    {
      "cell_type": "code",
      "source": [
        "from sklearn.model_selection import cross_validate"
      ],
      "metadata": {
        "colab": {
          "base_uri": "https://localhost:8080/"
        },
        "id": "7GiowMl73NTJ",
        "outputId": "0cdb27e4-4402-424e-f1d3-ad6f07bcf442"
      },
      "id": "7GiowMl73NTJ",
      "execution_count": null,
      "outputs": [
        {
          "output_type": "stream",
          "name": "stdout",
          "text": [
            "time: 1.11 ms (started: 2022-03-24 10:53:57 +00:00)\n"
          ]
        }
      ]
    },
    {
      "cell_type": "code",
      "source": [
        "model_eval = XGBClassifier(use_label_encoder=False,n_jobs=-1)\n",
        "scores = cross_validate(model_eval,\n",
        "                        declare_df_boolean_non_zero,target,scoring=[\"roc_auc\",\"precision\",\"f1\",\"neg_log_loss\",\"average_precision\"],\n",
        "                        cv=4, \n",
        "                        n_jobs=-1)"
      ],
      "metadata": {
        "colab": {
          "base_uri": "https://localhost:8080/"
        },
        "id": "nI7RF6SR3eeE",
        "outputId": "5634d8bd-7cd5-4791-d075-aa4d1444f864"
      },
      "id": "nI7RF6SR3eeE",
      "execution_count": null,
      "outputs": [
        {
          "output_type": "stream",
          "name": "stdout",
          "text": [
            "time: 10.5 s (started: 2022-03-24 10:54:11 +00:00)\n"
          ]
        }
      ]
    },
    {
      "cell_type": "code",
      "source": [
        "scores"
      ],
      "metadata": {
        "colab": {
          "base_uri": "https://localhost:8080/"
        },
        "id": "7AyUYQuc_ETQ",
        "outputId": "eefa356d-7550-4d0e-df01-da93f74e056b"
      },
      "id": "7AyUYQuc_ETQ",
      "execution_count": null,
      "outputs": [
        {
          "output_type": "execute_result",
          "data": {
            "text/plain": [
              "{'fit_time': array([4.68551874, 4.89384198, 5.09710503, 4.64020944]),\n",
              " 'score_time': array([0.05703378, 0.18986511, 0.10519791, 0.11453676]),\n",
              " 'test_average_precision': array([0.99427591, 0.99168127, 0.99451574, 0.99415451]),\n",
              " 'test_f1': array([0.99622866, 0.99366462, 0.99682161, 0.99297517]),\n",
              " 'test_neg_log_loss': array([-0.0359587 , -0.05224858, -0.03404854, -0.05642587]),\n",
              " 'test_precision': array([0.99248566, 0.98740901, 0.99366337, 0.98604834]),\n",
              " 'test_roc_auc': array([0.98747335, 0.98147059, 0.98787413, 0.98657608])}"
            ]
          },
          "metadata": {},
          "execution_count": 54
        },
        {
          "output_type": "stream",
          "name": "stdout",
          "text": [
            "time: 8.55 ms (started: 2022-03-24 10:54:33 +00:00)\n"
          ]
        }
      ]
    },
    {
      "cell_type": "code",
      "source": [
        "scores"
      ],
      "metadata": {
        "id": "urFEbRrn4mK0"
      },
      "id": "urFEbRrn4mK0",
      "execution_count": null,
      "outputs": []
    },
    {
      "cell_type": "code",
      "source": [
        "np.mean([4.68551874, 4.89384198, 5.09710503, 4.64020944])"
      ],
      "metadata": {
        "colab": {
          "base_uri": "https://localhost:8080/"
        },
        "id": "TSUnrcvTQT5t",
        "outputId": "d1d7b1ec-f4ad-4373-d752-936f82c7082e"
      },
      "id": "TSUnrcvTQT5t",
      "execution_count": null,
      "outputs": [
        {
          "output_type": "execute_result",
          "data": {
            "text/plain": [
              "4.8291687974999995"
            ]
          },
          "metadata": {},
          "execution_count": 55
        },
        {
          "output_type": "stream",
          "name": "stdout",
          "text": [
            "time: 4.9 ms (started: 2022-03-24 10:54:45 +00:00)\n"
          ]
        }
      ]
    },
    {
      "cell_type": "markdown",
      "id": "7b9be98e",
      "metadata": {
        "id": "7b9be98e"
      },
      "source": [
        "# SHAP values converting into percentage "
      ]
    },
    {
      "cell_type": "markdown",
      "id": "e84e772f",
      "metadata": {
        "id": "e84e772f"
      },
      "source": [
        "Concers to discuss with nawid 'why divide by the ratio'"
      ]
    },
    {
      "cell_type": "code",
      "execution_count": null,
      "id": "26777754",
      "metadata": {
        "ExecuteTime": {
          "end_time": "2022-03-08T11:22:12.886327Z",
          "start_time": "2022-03-08T11:22:12.878373Z"
        },
        "id": "26777754",
        "colab": {
          "base_uri": "https://localhost:8080/"
        },
        "outputId": "c1edf9f5-53a7-4c29-e3ff-af4aa2a4129a"
      },
      "outputs": [
        {
          "output_type": "stream",
          "name": "stdout",
          "text": [
            "time: 9.52 ms (started: 2022-03-24 08:16:04 +00:00)\n"
          ]
        }
      ],
      "source": [
        "def shap_to_impact_percentage(shap_values:np.ndarray, declare_df_non_zero:pd.DataFrame,base_value)->pd.DataFrame:\n",
        "    shap_df = pd.DataFrame(shap_values , columns=declare_df_non_zero.columns)\n",
        "    \n",
        "    shap_df['expected_output'] = np.round(shap_values.sum(axis=1)+base_value,2)\n",
        "    \n",
        "    shap_df['sig_expected_output'] = tf.math.sigmoid(shap_df['expected_output'])\n",
        "    shap_df['probability'] = shap_df['sig_expected_output'] - tf.math.sigmoid(base_value)\n",
        "    shap_df['probability'] = shap_df['probability']*100\n",
        "    shap_df['dist'] = shap_df['expected_output'] - base_value\n",
        "    shap_df_transformed = shap_df.iloc[:,:-4].div(shap_df.dist, axis=0)\n",
        "    #  mult the ratio to the sigmoid dist\n",
        "    shap_df_transformed = shap_df_transformed.loc[:,:].mul(shap_df.loc[:,'probability'],axis = 0)\n",
        "    \n",
        "    return shap_df_transformed"
      ]
    },
    {
      "cell_type": "code",
      "execution_count": null,
      "id": "cd2c4c8a",
      "metadata": {
        "ExecuteTime": {
          "end_time": "2022-03-08T11:22:13.357593Z",
          "start_time": "2022-03-08T11:22:13.343981Z"
        },
        "id": "cd2c4c8a",
        "colab": {
          "base_uri": "https://localhost:8080/"
        },
        "outputId": "9112d227-18de-4dec-a27c-b73ffcb8cd93"
      },
      "outputs": [
        {
          "output_type": "stream",
          "name": "stdout",
          "text": [
            "time: 34.1 ms (started: 2022-03-24 08:16:05 +00:00)\n"
          ]
        }
      ],
      "source": [
        "def percetage_impact_per_value(declare_df_non_zero:pd.DataFrame,shap_df_transformed:pd.DataFrame, target:pd.DataFrame)->pd.DataFrame:\n",
        "    ratio = (target.value_counts()[1]/target.shape[0])*100\n",
        "    max_length = 0\n",
        "    new_dict = {}\n",
        "    shap_df_transformed = shap_df_transformed.loc[:, (shap_df_transformed != 0).any(axis=0)]\n",
        "    population_size,_ = declare_df_non_zero.shape\n",
        "    population_size_threshold = population_size*(1/100)\n",
        "    for col in shap_df_transformed.columns:\n",
        "        df1 = shap_df_transformed[col]\n",
        "        df1 = df1.rename(\"shap\")\n",
        "        df2 = declare_df_non_zero[col]\n",
        "        df2 = df2.rename(\"value\")\n",
        "        transformed_shap_value = pd.concat([df1, df2], axis=1)\n",
        "        values_shap_trans = transformed_shap_value.groupby(['value'], as_index = False).agg({'shap':['mean', 'count']})\n",
        "        values_shap_trans.columns = values_shap_trans.columns.droplevel(level=0)\n",
        "        values_shap_trans.columns = ['value', 'mean', 'count']\n",
        "        values_shap_trans['impact']= (values_shap_trans['mean']/ratio)*100\n",
        "#         positive_impact = values_shap_trans[(values_shap_trans['impact']>0)& (values_shap_trans['count']>population_size_threshold)]\n",
        "        positive_impact = values_shap_trans\n",
        "        positive_impact_dict = positive_impact.to_dict()\n",
        "        positive_impact_len , _ = positive_impact.shape\n",
        "        \n",
        "        if positive_impact_len > max_length:\n",
        "            max_length = positive_impact_len\n",
        "            \n",
        "        for key, list_value in positive_impact_dict.items():\n",
        "            list_value = list(positive_impact_dict[key].values())\n",
        "            new_dict[(col,key)] = list_value\n",
        "            \n",
        "    for col_name , col_values in new_dict.items():\n",
        "        if len(col_values) < max_length:\n",
        "            for i in range(len(col_values),max_length):\n",
        "                col_values.append(None) \n",
        "            new_dict[col_name] = col_values\n",
        "            \n",
        "    return pd.DataFrame(new_dict)\n",
        "            "
      ]
    },
    {
      "cell_type": "code",
      "execution_count": null,
      "id": "e0294963",
      "metadata": {
        "ExecuteTime": {
          "end_time": "2022-03-08T11:22:13.883876Z",
          "start_time": "2022-03-08T11:22:13.877574Z"
        },
        "id": "e0294963",
        "colab": {
          "base_uri": "https://localhost:8080/"
        },
        "outputId": "9133ff3c-58c3-4765-c5d8-9451d4a460d1"
      },
      "outputs": [
        {
          "output_type": "stream",
          "name": "stdout",
          "text": [
            "time: 10.2 ms (started: 2022-03-24 08:16:05 +00:00)\n"
          ]
        }
      ],
      "source": [
        "def get_impact(declare_df_non_zero:pd.DataFrame,target:pd.DataFrame)->pd.DataFrame:\n",
        "    model = XGBClassifier(use_label_encoder=False)\n",
        "    model.fit(declare_df_non_zero, target)\n",
        "    explainer = shap.TreeExplainer(model)\n",
        "    shap_values = explainer.shap_values(declare_df_non_zero)\n",
        "    base_value = explainer.expected_value\n",
        "    shap_df_transformed = shap_to_impact_percentage(shap_values,declare_df_non_zero,base_value)\n",
        "    return percetage_impact_per_value(declare_df_non_zero,shap_df_transformed, target)\n",
        "    "
      ]
    },
    {
      "cell_type": "code",
      "execution_count": null,
      "id": "d8d7c215",
      "metadata": {
        "ExecuteTime": {
          "end_time": "2022-03-08T14:23:27.186167Z",
          "start_time": "2022-03-08T14:23:27.178176Z"
        },
        "id": "d8d7c215",
        "colab": {
          "base_uri": "https://localhost:8080/"
        },
        "outputId": "49760ea4-3761-4093-a753-a27b9a045c38"
      },
      "outputs": [
        {
          "output_type": "stream",
          "name": "stdout",
          "text": [
            "time: 18.7 ms (started: 2022-03-24 08:16:06 +00:00)\n"
          ]
        }
      ],
      "source": [
        "def remove_reduntant(filtered_positive_constraints: list)->list:\n",
        "    final_positive = list()\n",
        "    \n",
        "    for rule in filtered_positive_constraints:\n",
        "        tuple_str = rule.split(\"_\")[0]\n",
        "        relation_name = rule.split(\"_\")[-1]\n",
        "        events = tuple_str.split(\", \")\n",
        "        event_e = events[0].split(\"'\")[1]\n",
        "        event_f = events[1].split(\"'\")[1]\n",
        "        reverse = get_col_name(event_f,event_e, relation_name)\n",
        "\n",
        "        if reverse in filtered_positive_constraints:\n",
        "            item_e_sort, item_f_sort = tuple(sorted((event_e,event_f)))\n",
        "            alternate_succession = get_col_name(item_e_sort,item_f_sort, 'alternate_succession')\n",
        "            if alternate_succession in filtered_positive_constraints:\n",
        "                final_positive.append(alternate_succession)\n",
        "        else:\n",
        "            final_positive.append(rule)\n",
        "\n",
        "    final_positive = list(set(final_positive))\n",
        "    \n",
        "    return final_positive      "
      ]
    },
    {
      "cell_type": "code",
      "execution_count": null,
      "id": "18226756",
      "metadata": {
        "ExecuteTime": {
          "end_time": "2022-03-09T09:07:20.329282Z",
          "start_time": "2022-03-09T09:07:20.322757Z"
        },
        "id": "18226756",
        "colab": {
          "base_uri": "https://localhost:8080/"
        },
        "outputId": "500d49d1-d78e-4069-f602-12c7f7c46777"
      },
      "outputs": [
        {
          "output_type": "stream",
          "name": "stdout",
          "text": [
            "time: 7.16 ms (started: 2022-03-24 08:16:07 +00:00)\n"
          ]
        }
      ],
      "source": [
        "def confident_positive_constraints(filtered_positive_constraints:list, positive_impact_df:pd.DataFrame)->list:\n",
        "    confident = list()\n",
        "    \n",
        "    for constraint in list(set(positive_impact_df.columns.get_level_values(0))):\n",
        "        value_one_count = positive_impact_df.loc[1,(constraint,'count')]\n",
        "        value_zero_count = positive_impact_df.loc[0,(constraint,'count')]\n",
        "        if value_one_count > (value_one_count+value_zero_count)*0.3:\n",
        "            confident.append(constraint)\n",
        "            \n",
        "    return confident"
      ]
    },
    {
      "cell_type": "code",
      "source": [
        "def filter_positive_based_on_reality(positive_impact_cols:list, declare_df_boolean_non_zero:pd.DataFrame, target:pd.DataFrame)->list:\n",
        "  filtered_constraints = list()\n",
        "  for constraint in positive_impact_cols:\n",
        "    constraint_indx = declare_df_boolean_non_zero[declare_df_boolean_non_zero[constraint]==1].index\n",
        "    true_rate_when_constraint = (sum(target.iloc[constraint_indx,0])/len(constraint_indx))*100\n",
        "\n",
        "    constraint_indx = declare_df_boolean_non_zero[declare_df_boolean_non_zero[constraint]==0].index\n",
        "    true_rate_when_no_constraint = (sum(target.iloc[constraint_indx,0])/len(constraint_indx))*100\n",
        "    if true_rate_when_constraint > true_rate_when_no_constraint:\n",
        "      filtered_constraints.append(constraint)\n",
        "  return filtered_constraints"
      ],
      "metadata": {
        "id": "IGclT-qnROO5",
        "colab": {
          "base_uri": "https://localhost:8080/"
        },
        "outputId": "ecf39ff9-aa32-4975-ea67-33c8afd95eec"
      },
      "id": "IGclT-qnROO5",
      "execution_count": null,
      "outputs": [
        {
          "output_type": "stream",
          "name": "stdout",
          "text": [
            "time: 6.33 ms (started: 2022-03-24 08:16:08 +00:00)\n"
          ]
        }
      ]
    },
    {
      "cell_type": "code",
      "execution_count": null,
      "id": "954ca7c2",
      "metadata": {
        "ExecuteTime": {
          "end_time": "2022-03-09T09:13:22.978345Z",
          "start_time": "2022-03-09T09:13:22.969991Z"
        },
        "id": "954ca7c2",
        "colab": {
          "base_uri": "https://localhost:8080/"
        },
        "outputId": "89626bdf-a164-44e8-f802-4c4e79136023"
      },
      "outputs": [
        {
          "output_type": "stream",
          "name": "stdout",
          "text": [
            "time: 10.9 ms (started: 2022-03-24 08:16:09 +00:00)\n"
          ]
        }
      ],
      "source": [
        "def get_positive_impact(all_impact_constraints:pd.DataFrame,declare_df_non_zero:pd.DataFrame,target:pd.DataFrame)->pd.DataFrame:\n",
        "    filtered_positive_constraints = list()\n",
        "    for constraint in list(set(all_impact_constraints.columns.get_level_values(0))):\n",
        "        value_one_impact = all_impact_constraints.loc[1,(constraint,'impact')]\n",
        "        value_zero_impact = all_impact_constraints.loc[0,(constraint,'impact')]\n",
        "        if value_one_impact > 0:\n",
        "            if value_zero_impact<0 :\n",
        "                filtered_positive_constraints.append(constraint)\n",
        "                \n",
        "    positive_imapct = all_impact_constraints.iloc[:, all_impact_constraints.columns.get_level_values(0).isin(filtered_positive_constraints)]\n",
        "                \n",
        "    filtered_positive_constraints = confident_positive_constraints(filtered_positive_constraints,positive_imapct)\n",
        "\n",
        "    filtered_positive_constraints = filter_positive_based_on_reality(filtered_positive_constraints, declare_df_boolean_non_zero, target)\n",
        "    \n",
        "    filtered_positive_constraints = remove_reduntant(filtered_positive_constraints)\n",
        "\n",
        "    return all_impact_constraints.iloc[:, all_impact_constraints.columns.get_level_values(0).isin(filtered_positive_constraints)]\n",
        "\n"
      ]
    },
    {
      "cell_type": "code",
      "execution_count": null,
      "id": "f3cebd4f",
      "metadata": {
        "ExecuteTime": {
          "end_time": "2022-03-09T09:09:25.779798Z",
          "start_time": "2022-03-09T09:09:25.773932Z"
        },
        "id": "f3cebd4f",
        "colab": {
          "base_uri": "https://localhost:8080/"
        },
        "outputId": "6d9cf5c1-f42c-4fc2-dfec-17e2536e3bc1"
      },
      "outputs": [
        {
          "output_type": "stream",
          "name": "stdout",
          "text": [
            "time: 4.17 ms (started: 2022-03-24 08:16:10 +00:00)\n"
          ]
        }
      ],
      "source": [
        "def confident_negative_constraints(filtered_negative_constraints:list,negative_impact_df:pd.DataFrame)->list:\n",
        "    confident = list()\n",
        "    \n",
        "    for constraint in list(set(negative_impact_df.columns.get_level_values(0))):\n",
        "        value_one_count = negative_impact_df.loc[1,(constraint,'count')]\n",
        "        value_zero_count = negative_impact_df.loc[0,(constraint,'count')]\n",
        "        if value_zero_count > (value_one_count+value_zero_count)*0.3 :\n",
        "            confident.append(constraint)\n",
        "            \n",
        "    return confident"
      ]
    },
    {
      "cell_type": "code",
      "source": [
        "def filter_negative_based_on_reality(negative_impact_cols:list, declare_df_boolean_non_zero:pd.DataFrame, target:pd.DataFrame)->list:\n",
        "  filtered_constraints = list()\n",
        "  for constraint in negative_impact_cols:\n",
        "    constraint_indx = declare_df_boolean_non_zero[declare_df_boolean_non_zero[constraint]==0].index\n",
        "    true_rate_when_no_constraint = (sum(target.iloc[constraint_indx,0])/len(constraint_indx))*100\n",
        "    constraint_indx = declare_df_boolean_non_zero[declare_df_boolean_non_zero[constraint]==1].index\n",
        "    true_rate_when_constraint = (sum(target.iloc[constraint_indx,0])/len(constraint_indx))*100\n",
        "    if true_rate_when_no_constraint > true_rate_when_constraint:\n",
        "      filtered_constraints.append(constraint)\n",
        "  return filtered_constraints"
      ],
      "metadata": {
        "id": "im0pjebzUZPW",
        "colab": {
          "base_uri": "https://localhost:8080/"
        },
        "outputId": "c0859f52-12e3-4d4a-bf8a-2313521451d3"
      },
      "id": "im0pjebzUZPW",
      "execution_count": null,
      "outputs": [
        {
          "output_type": "stream",
          "name": "stdout",
          "text": [
            "time: 9 ms (started: 2022-03-24 08:16:11 +00:00)\n"
          ]
        }
      ]
    },
    {
      "cell_type": "code",
      "execution_count": null,
      "id": "cdd84491",
      "metadata": {
        "ExecuteTime": {
          "end_time": "2022-03-09T09:13:15.692650Z",
          "start_time": "2022-03-09T09:13:15.685001Z"
        },
        "id": "cdd84491",
        "colab": {
          "base_uri": "https://localhost:8080/"
        },
        "outputId": "b70026bf-8d5d-4aa0-bfb2-c715f4088c6a"
      },
      "outputs": [
        {
          "output_type": "stream",
          "name": "stdout",
          "text": [
            "time: 17.4 ms (started: 2022-03-24 08:16:12 +00:00)\n"
          ]
        }
      ],
      "source": [
        "def get_negative_impact(all_impact_constraints:pd.DataFrame,declare_df_non_zero:pd.DataFrame,target:pd.DataFrame)->pd.DataFrame:\n",
        "    filtered_negative_constraints = list()\n",
        "    for constraint in list(set(all_impact_constraints.columns.get_level_values(0))):\n",
        "        value_one_impact = all_impact_constraints.loc[1,(constraint,'impact')]\n",
        "        value_zero_impact = all_impact_constraints.loc[0,(constraint,'impact')]\n",
        "        if value_one_impact <0:\n",
        "            if value_zero_impact >0 :\n",
        "                filtered_negative_constraints.append(constraint)\n",
        "                \n",
        "    negative_imapct = all_impact_constraints.iloc[:, all_impact_constraints.columns.get_level_values(0).isin(filtered_negative_constraints)]\n",
        "                \n",
        "    filtered_negative_constraints = confident_negative_constraints(filtered_negative_constraints,negative_imapct)\n",
        "\n",
        "    filtered_negative_constraints = filter_negative_based_on_reality(filtered_negative_constraints, declare_df_boolean_non_zero, target)\n",
        "\n",
        "    filtered_negative_constraints = remove_reduntant(filtered_negative_constraints)\n",
        "\n",
        "    return all_impact_constraints.iloc[:, all_impact_constraints.columns.get_level_values(0).isin(filtered_negative_constraints)]\n",
        "\n"
      ]
    },
    {
      "cell_type": "code",
      "execution_count": null,
      "id": "5181eb5e",
      "metadata": {
        "ExecuteTime": {
          "end_time": "2022-03-09T08:45:55.461337Z",
          "start_time": "2022-03-09T08:45:50.339882Z"
        },
        "colab": {
          "base_uri": "https://localhost:8080/"
        },
        "id": "5181eb5e",
        "outputId": "d4dfdea3-85e2-4205-84c9-3a4b560d4a83"
      },
      "outputs": [
        {
          "output_type": "stream",
          "name": "stderr",
          "text": [
            "A column-vector y was passed when a 1d array was expected. Please change the shape of y to (n_samples, ), for example using ravel().\n",
            "A column-vector y was passed when a 1d array was expected. Please change the shape of y to (n_samples, ), for example using ravel().\n"
          ]
        },
        {
          "output_type": "stream",
          "name": "stdout",
          "text": [
            "time: 3.61 s (started: 2022-03-24 08:16:13 +00:00)\n"
          ]
        }
      ],
      "source": [
        "\n",
        "pd.options.display.max_columns = None\n",
        "all_impact_constraints = get_impact(declare_df_boolean_non_zero,target)"
      ]
    },
    {
      "cell_type": "code",
      "execution_count": null,
      "id": "5f474203",
      "metadata": {
        "ExecuteTime": {
          "end_time": "2022-03-09T08:46:12.754998Z",
          "start_time": "2022-03-09T08:46:12.721643Z"
        },
        "colab": {
          "base_uri": "https://localhost:8080/",
          "height": 260
        },
        "id": "5f474203",
        "outputId": "c8af109a-9bda-4c93-eb49-ed9b5a484b59"
      },
      "outputs": [
        {
          "output_type": "execute_result",
          "data": {
            "text/plain": [
              "  ('Send Fine', 'Add penalty')_precedence                             \\\n",
              "                                    value      mean  count    impact   \n",
              "0                                       0  0.926632   3379  1.137448   \n",
              "1                                       1 -0.020403  21262 -0.025045   \n",
              "\n",
              "  ('Create Fine', 'Insert Date Appeal to Prefecture')_precedence             \\\n",
              "                                                           value       mean   \n",
              "0                                                  0               3.132419   \n",
              "1                                                  1             -60.412766   \n",
              "\n",
              "                    ('Add penalty', 'Payment')_precedence                   \\\n",
              "   count     impact                                 value      mean  count   \n",
              "0  20453   3.845070                                     0 -1.185850  10542   \n",
              "1   4188 -74.157166                                     1  0.013275  14099   \n",
              "\n",
              "            ('Insert Fine Notification', 'Payment')_precedence            \\\n",
              "     impact                                              value      mean   \n",
              "0 -1.455640                                                  0  3.566710   \n",
              "1  0.016296                                                  1 -1.014971   \n",
              "\n",
              "                   ('Payment', 'Add penalty')_precedence                   \\\n",
              "   count    impact                                 value      mean  count   \n",
              "0  10528  4.378165                                     0 -0.147420  21121   \n",
              "1  14113 -1.245886                                     1  0.541047   3520   \n",
              "\n",
              "            ('Send Fine', 'Payment')_response                               \\\n",
              "     impact                             value       mean  count     impact   \n",
              "0 -0.180959                                 0 -44.431187   3792 -54.539646   \n",
              "1  0.664139                                 1   0.210260  20849   0.258095   \n",
              "\n",
              "  ('Add penalty', 'Payment')_response                             \n",
              "                                value      mean  count    impact  \n",
              "0                                   0 -0.487516   7036 -0.598429  \n",
              "1                                   1  0.003786  17605  0.004647  "
            ],
            "text/html": [
              "\n",
              "  <div id=\"df-e5527b40-fbd6-43cb-8ab8-699333ab1398\">\n",
              "    <div class=\"colab-df-container\">\n",
              "      <div>\n",
              "<style scoped>\n",
              "    .dataframe tbody tr th:only-of-type {\n",
              "        vertical-align: middle;\n",
              "    }\n",
              "\n",
              "    .dataframe tbody tr th {\n",
              "        vertical-align: top;\n",
              "    }\n",
              "\n",
              "    .dataframe thead tr th {\n",
              "        text-align: left;\n",
              "    }\n",
              "</style>\n",
              "<table border=\"1\" class=\"dataframe\">\n",
              "  <thead>\n",
              "    <tr>\n",
              "      <th></th>\n",
              "      <th colspan=\"4\" halign=\"left\">('Send Fine', 'Add penalty')_precedence</th>\n",
              "      <th colspan=\"4\" halign=\"left\">('Create Fine', 'Insert Date Appeal to Prefecture')_precedence</th>\n",
              "      <th colspan=\"4\" halign=\"left\">('Add penalty', 'Payment')_precedence</th>\n",
              "      <th colspan=\"4\" halign=\"left\">('Insert Fine Notification', 'Payment')_precedence</th>\n",
              "      <th colspan=\"4\" halign=\"left\">('Payment', 'Add penalty')_precedence</th>\n",
              "      <th colspan=\"4\" halign=\"left\">('Send Fine', 'Payment')_response</th>\n",
              "      <th colspan=\"4\" halign=\"left\">('Add penalty', 'Payment')_response</th>\n",
              "    </tr>\n",
              "    <tr>\n",
              "      <th></th>\n",
              "      <th>value</th>\n",
              "      <th>mean</th>\n",
              "      <th>count</th>\n",
              "      <th>impact</th>\n",
              "      <th>value</th>\n",
              "      <th>mean</th>\n",
              "      <th>count</th>\n",
              "      <th>impact</th>\n",
              "      <th>value</th>\n",
              "      <th>mean</th>\n",
              "      <th>count</th>\n",
              "      <th>impact</th>\n",
              "      <th>value</th>\n",
              "      <th>mean</th>\n",
              "      <th>count</th>\n",
              "      <th>impact</th>\n",
              "      <th>value</th>\n",
              "      <th>mean</th>\n",
              "      <th>count</th>\n",
              "      <th>impact</th>\n",
              "      <th>value</th>\n",
              "      <th>mean</th>\n",
              "      <th>count</th>\n",
              "      <th>impact</th>\n",
              "      <th>value</th>\n",
              "      <th>mean</th>\n",
              "      <th>count</th>\n",
              "      <th>impact</th>\n",
              "    </tr>\n",
              "  </thead>\n",
              "  <tbody>\n",
              "    <tr>\n",
              "      <th>0</th>\n",
              "      <td>0</td>\n",
              "      <td>0.926632</td>\n",
              "      <td>3379</td>\n",
              "      <td>1.137448</td>\n",
              "      <td>0</td>\n",
              "      <td>3.132419</td>\n",
              "      <td>20453</td>\n",
              "      <td>3.845070</td>\n",
              "      <td>0</td>\n",
              "      <td>-1.185850</td>\n",
              "      <td>10542</td>\n",
              "      <td>-1.455640</td>\n",
              "      <td>0</td>\n",
              "      <td>3.566710</td>\n",
              "      <td>10528</td>\n",
              "      <td>4.378165</td>\n",
              "      <td>0</td>\n",
              "      <td>-0.147420</td>\n",
              "      <td>21121</td>\n",
              "      <td>-0.180959</td>\n",
              "      <td>0</td>\n",
              "      <td>-44.431187</td>\n",
              "      <td>3792</td>\n",
              "      <td>-54.539646</td>\n",
              "      <td>0</td>\n",
              "      <td>-0.487516</td>\n",
              "      <td>7036</td>\n",
              "      <td>-0.598429</td>\n",
              "    </tr>\n",
              "    <tr>\n",
              "      <th>1</th>\n",
              "      <td>1</td>\n",
              "      <td>-0.020403</td>\n",
              "      <td>21262</td>\n",
              "      <td>-0.025045</td>\n",
              "      <td>1</td>\n",
              "      <td>-60.412766</td>\n",
              "      <td>4188</td>\n",
              "      <td>-74.157166</td>\n",
              "      <td>1</td>\n",
              "      <td>0.013275</td>\n",
              "      <td>14099</td>\n",
              "      <td>0.016296</td>\n",
              "      <td>1</td>\n",
              "      <td>-1.014971</td>\n",
              "      <td>14113</td>\n",
              "      <td>-1.245886</td>\n",
              "      <td>1</td>\n",
              "      <td>0.541047</td>\n",
              "      <td>3520</td>\n",
              "      <td>0.664139</td>\n",
              "      <td>1</td>\n",
              "      <td>0.210260</td>\n",
              "      <td>20849</td>\n",
              "      <td>0.258095</td>\n",
              "      <td>1</td>\n",
              "      <td>0.003786</td>\n",
              "      <td>17605</td>\n",
              "      <td>0.004647</td>\n",
              "    </tr>\n",
              "  </tbody>\n",
              "</table>\n",
              "</div>\n",
              "      <button class=\"colab-df-convert\" onclick=\"convertToInteractive('df-e5527b40-fbd6-43cb-8ab8-699333ab1398')\"\n",
              "              title=\"Convert this dataframe to an interactive table.\"\n",
              "              style=\"display:none;\">\n",
              "        \n",
              "  <svg xmlns=\"http://www.w3.org/2000/svg\" height=\"24px\"viewBox=\"0 0 24 24\"\n",
              "       width=\"24px\">\n",
              "    <path d=\"M0 0h24v24H0V0z\" fill=\"none\"/>\n",
              "    <path d=\"M18.56 5.44l.94 2.06.94-2.06 2.06-.94-2.06-.94-.94-2.06-.94 2.06-2.06.94zm-11 1L8.5 8.5l.94-2.06 2.06-.94-2.06-.94L8.5 2.5l-.94 2.06-2.06.94zm10 10l.94 2.06.94-2.06 2.06-.94-2.06-.94-.94-2.06-.94 2.06-2.06.94z\"/><path d=\"M17.41 7.96l-1.37-1.37c-.4-.4-.92-.59-1.43-.59-.52 0-1.04.2-1.43.59L10.3 9.45l-7.72 7.72c-.78.78-.78 2.05 0 2.83L4 21.41c.39.39.9.59 1.41.59.51 0 1.02-.2 1.41-.59l7.78-7.78 2.81-2.81c.8-.78.8-2.07 0-2.86zM5.41 20L4 18.59l7.72-7.72 1.47 1.35L5.41 20z\"/>\n",
              "  </svg>\n",
              "      </button>\n",
              "      \n",
              "  <style>\n",
              "    .colab-df-container {\n",
              "      display:flex;\n",
              "      flex-wrap:wrap;\n",
              "      gap: 12px;\n",
              "    }\n",
              "\n",
              "    .colab-df-convert {\n",
              "      background-color: #E8F0FE;\n",
              "      border: none;\n",
              "      border-radius: 50%;\n",
              "      cursor: pointer;\n",
              "      display: none;\n",
              "      fill: #1967D2;\n",
              "      height: 32px;\n",
              "      padding: 0 0 0 0;\n",
              "      width: 32px;\n",
              "    }\n",
              "\n",
              "    .colab-df-convert:hover {\n",
              "      background-color: #E2EBFA;\n",
              "      box-shadow: 0px 1px 2px rgba(60, 64, 67, 0.3), 0px 1px 3px 1px rgba(60, 64, 67, 0.15);\n",
              "      fill: #174EA6;\n",
              "    }\n",
              "\n",
              "    [theme=dark] .colab-df-convert {\n",
              "      background-color: #3B4455;\n",
              "      fill: #D2E3FC;\n",
              "    }\n",
              "\n",
              "    [theme=dark] .colab-df-convert:hover {\n",
              "      background-color: #434B5C;\n",
              "      box-shadow: 0px 1px 3px 1px rgba(0, 0, 0, 0.15);\n",
              "      filter: drop-shadow(0px 1px 2px rgba(0, 0, 0, 0.3));\n",
              "      fill: #FFFFFF;\n",
              "    }\n",
              "  </style>\n",
              "\n",
              "      <script>\n",
              "        const buttonEl =\n",
              "          document.querySelector('#df-e5527b40-fbd6-43cb-8ab8-699333ab1398 button.colab-df-convert');\n",
              "        buttonEl.style.display =\n",
              "          google.colab.kernel.accessAllowed ? 'block' : 'none';\n",
              "\n",
              "        async function convertToInteractive(key) {\n",
              "          const element = document.querySelector('#df-e5527b40-fbd6-43cb-8ab8-699333ab1398');\n",
              "          const dataTable =\n",
              "            await google.colab.kernel.invokeFunction('convertToInteractive',\n",
              "                                                     [key], {});\n",
              "          if (!dataTable) return;\n",
              "\n",
              "          const docLinkHtml = 'Like what you see? Visit the ' +\n",
              "            '<a target=\"_blank\" href=https://colab.research.google.com/notebooks/data_table.ipynb>data table notebook</a>'\n",
              "            + ' to learn more about interactive tables.';\n",
              "          element.innerHTML = '';\n",
              "          dataTable['output_type'] = 'display_data';\n",
              "          await google.colab.output.renderOutput(dataTable, element);\n",
              "          const docLink = document.createElement('div');\n",
              "          docLink.innerHTML = docLinkHtml;\n",
              "          element.appendChild(docLink);\n",
              "        }\n",
              "      </script>\n",
              "    </div>\n",
              "  </div>\n",
              "  "
            ]
          },
          "metadata": {},
          "execution_count": 53
        },
        {
          "output_type": "stream",
          "name": "stdout",
          "text": [
            "time: 119 ms (started: 2022-03-24 08:16:16 +00:00)\n"
          ]
        }
      ],
      "source": [
        "all_impact_constraints"
      ]
    },
    {
      "cell_type": "code",
      "execution_count": null,
      "id": "5bef289e",
      "metadata": {
        "ExecuteTime": {
          "end_time": "2022-03-09T08:56:17.987971Z",
          "start_time": "2022-03-09T08:56:17.974139Z"
        },
        "id": "5bef289e",
        "colab": {
          "base_uri": "https://localhost:8080/"
        },
        "outputId": "fec579c4-2ff4-4c71-9c58-02f6f173cf0f"
      },
      "outputs": [
        {
          "output_type": "stream",
          "name": "stdout",
          "text": [
            "time: 91.3 ms (started: 2022-03-24 08:16:17 +00:00)\n"
          ]
        }
      ],
      "source": [
        "positive_impact = get_positive_impact(all_impact_constraints,declare_df_boolean_non_zero,target)"
      ]
    },
    {
      "cell_type": "code",
      "execution_count": null,
      "id": "55964501",
      "metadata": {
        "ExecuteTime": {
          "end_time": "2022-03-09T08:56:25.980675Z",
          "start_time": "2022-03-09T08:56:25.968530Z"
        },
        "id": "55964501",
        "colab": {
          "base_uri": "https://localhost:8080/"
        },
        "outputId": "3d4bc0ee-9131-4383-c7a6-4dcb17c9d413"
      },
      "outputs": [
        {
          "output_type": "stream",
          "name": "stdout",
          "text": [
            "time: 25.3 ms (started: 2022-03-24 08:16:18 +00:00)\n"
          ]
        }
      ],
      "source": [
        "negative_impact = get_negative_impact(all_impact_constraints,declare_df_boolean_non_zero,target)"
      ]
    },
    {
      "cell_type": "code",
      "execution_count": null,
      "id": "eb165811",
      "metadata": {
        "ExecuteTime": {
          "end_time": "2022-03-09T08:56:30.961598Z",
          "start_time": "2022-03-09T08:56:30.944253Z"
        },
        "colab": {
          "base_uri": "https://localhost:8080/",
          "height": 161
        },
        "id": "eb165811",
        "outputId": "2ea01f18-efb4-43ee-da35-3be29b9105de"
      },
      "outputs": [
        {
          "output_type": "execute_result",
          "data": {
            "text/plain": [
              "  ('Add penalty', 'Payment')_precedence                             \\\n",
              "                                  value      mean  count    impact   \n",
              "0                                     0 -1.185850  10542 -1.455640   \n",
              "1                                     1  0.013275  14099  0.016296   \n",
              "\n",
              "  ('Send Fine', 'Payment')_response                               \\\n",
              "                              value       mean  count     impact   \n",
              "0                                 0 -44.431187   3792 -54.539646   \n",
              "1                                 1   0.210260  20849   0.258095   \n",
              "\n",
              "  ('Add penalty', 'Payment')_response                             \n",
              "                                value      mean  count    impact  \n",
              "0                                   0 -0.487516   7036 -0.598429  \n",
              "1                                   1  0.003786  17605  0.004647  "
            ],
            "text/html": [
              "\n",
              "  <div id=\"df-4b40b20e-46e3-4131-8a4a-10832ceef359\">\n",
              "    <div class=\"colab-df-container\">\n",
              "      <div>\n",
              "<style scoped>\n",
              "    .dataframe tbody tr th:only-of-type {\n",
              "        vertical-align: middle;\n",
              "    }\n",
              "\n",
              "    .dataframe tbody tr th {\n",
              "        vertical-align: top;\n",
              "    }\n",
              "\n",
              "    .dataframe thead tr th {\n",
              "        text-align: left;\n",
              "    }\n",
              "</style>\n",
              "<table border=\"1\" class=\"dataframe\">\n",
              "  <thead>\n",
              "    <tr>\n",
              "      <th></th>\n",
              "      <th colspan=\"4\" halign=\"left\">('Add penalty', 'Payment')_precedence</th>\n",
              "      <th colspan=\"4\" halign=\"left\">('Send Fine', 'Payment')_response</th>\n",
              "      <th colspan=\"4\" halign=\"left\">('Add penalty', 'Payment')_response</th>\n",
              "    </tr>\n",
              "    <tr>\n",
              "      <th></th>\n",
              "      <th>value</th>\n",
              "      <th>mean</th>\n",
              "      <th>count</th>\n",
              "      <th>impact</th>\n",
              "      <th>value</th>\n",
              "      <th>mean</th>\n",
              "      <th>count</th>\n",
              "      <th>impact</th>\n",
              "      <th>value</th>\n",
              "      <th>mean</th>\n",
              "      <th>count</th>\n",
              "      <th>impact</th>\n",
              "    </tr>\n",
              "  </thead>\n",
              "  <tbody>\n",
              "    <tr>\n",
              "      <th>0</th>\n",
              "      <td>0</td>\n",
              "      <td>-1.185850</td>\n",
              "      <td>10542</td>\n",
              "      <td>-1.455640</td>\n",
              "      <td>0</td>\n",
              "      <td>-44.431187</td>\n",
              "      <td>3792</td>\n",
              "      <td>-54.539646</td>\n",
              "      <td>0</td>\n",
              "      <td>-0.487516</td>\n",
              "      <td>7036</td>\n",
              "      <td>-0.598429</td>\n",
              "    </tr>\n",
              "    <tr>\n",
              "      <th>1</th>\n",
              "      <td>1</td>\n",
              "      <td>0.013275</td>\n",
              "      <td>14099</td>\n",
              "      <td>0.016296</td>\n",
              "      <td>1</td>\n",
              "      <td>0.210260</td>\n",
              "      <td>20849</td>\n",
              "      <td>0.258095</td>\n",
              "      <td>1</td>\n",
              "      <td>0.003786</td>\n",
              "      <td>17605</td>\n",
              "      <td>0.004647</td>\n",
              "    </tr>\n",
              "  </tbody>\n",
              "</table>\n",
              "</div>\n",
              "      <button class=\"colab-df-convert\" onclick=\"convertToInteractive('df-4b40b20e-46e3-4131-8a4a-10832ceef359')\"\n",
              "              title=\"Convert this dataframe to an interactive table.\"\n",
              "              style=\"display:none;\">\n",
              "        \n",
              "  <svg xmlns=\"http://www.w3.org/2000/svg\" height=\"24px\"viewBox=\"0 0 24 24\"\n",
              "       width=\"24px\">\n",
              "    <path d=\"M0 0h24v24H0V0z\" fill=\"none\"/>\n",
              "    <path d=\"M18.56 5.44l.94 2.06.94-2.06 2.06-.94-2.06-.94-.94-2.06-.94 2.06-2.06.94zm-11 1L8.5 8.5l.94-2.06 2.06-.94-2.06-.94L8.5 2.5l-.94 2.06-2.06.94zm10 10l.94 2.06.94-2.06 2.06-.94-2.06-.94-.94-2.06-.94 2.06-2.06.94z\"/><path d=\"M17.41 7.96l-1.37-1.37c-.4-.4-.92-.59-1.43-.59-.52 0-1.04.2-1.43.59L10.3 9.45l-7.72 7.72c-.78.78-.78 2.05 0 2.83L4 21.41c.39.39.9.59 1.41.59.51 0 1.02-.2 1.41-.59l7.78-7.78 2.81-2.81c.8-.78.8-2.07 0-2.86zM5.41 20L4 18.59l7.72-7.72 1.47 1.35L5.41 20z\"/>\n",
              "  </svg>\n",
              "      </button>\n",
              "      \n",
              "  <style>\n",
              "    .colab-df-container {\n",
              "      display:flex;\n",
              "      flex-wrap:wrap;\n",
              "      gap: 12px;\n",
              "    }\n",
              "\n",
              "    .colab-df-convert {\n",
              "      background-color: #E8F0FE;\n",
              "      border: none;\n",
              "      border-radius: 50%;\n",
              "      cursor: pointer;\n",
              "      display: none;\n",
              "      fill: #1967D2;\n",
              "      height: 32px;\n",
              "      padding: 0 0 0 0;\n",
              "      width: 32px;\n",
              "    }\n",
              "\n",
              "    .colab-df-convert:hover {\n",
              "      background-color: #E2EBFA;\n",
              "      box-shadow: 0px 1px 2px rgba(60, 64, 67, 0.3), 0px 1px 3px 1px rgba(60, 64, 67, 0.15);\n",
              "      fill: #174EA6;\n",
              "    }\n",
              "\n",
              "    [theme=dark] .colab-df-convert {\n",
              "      background-color: #3B4455;\n",
              "      fill: #D2E3FC;\n",
              "    }\n",
              "\n",
              "    [theme=dark] .colab-df-convert:hover {\n",
              "      background-color: #434B5C;\n",
              "      box-shadow: 0px 1px 3px 1px rgba(0, 0, 0, 0.15);\n",
              "      filter: drop-shadow(0px 1px 2px rgba(0, 0, 0, 0.3));\n",
              "      fill: #FFFFFF;\n",
              "    }\n",
              "  </style>\n",
              "\n",
              "      <script>\n",
              "        const buttonEl =\n",
              "          document.querySelector('#df-4b40b20e-46e3-4131-8a4a-10832ceef359 button.colab-df-convert');\n",
              "        buttonEl.style.display =\n",
              "          google.colab.kernel.accessAllowed ? 'block' : 'none';\n",
              "\n",
              "        async function convertToInteractive(key) {\n",
              "          const element = document.querySelector('#df-4b40b20e-46e3-4131-8a4a-10832ceef359');\n",
              "          const dataTable =\n",
              "            await google.colab.kernel.invokeFunction('convertToInteractive',\n",
              "                                                     [key], {});\n",
              "          if (!dataTable) return;\n",
              "\n",
              "          const docLinkHtml = 'Like what you see? Visit the ' +\n",
              "            '<a target=\"_blank\" href=https://colab.research.google.com/notebooks/data_table.ipynb>data table notebook</a>'\n",
              "            + ' to learn more about interactive tables.';\n",
              "          element.innerHTML = '';\n",
              "          dataTable['output_type'] = 'display_data';\n",
              "          await google.colab.output.renderOutput(dataTable, element);\n",
              "          const docLink = document.createElement('div');\n",
              "          docLink.innerHTML = docLinkHtml;\n",
              "          element.appendChild(docLink);\n",
              "        }\n",
              "      </script>\n",
              "    </div>\n",
              "  </div>\n",
              "  "
            ]
          },
          "metadata": {},
          "execution_count": 56
        },
        {
          "output_type": "stream",
          "name": "stdout",
          "text": [
            "time: 18.2 ms (started: 2022-03-24 08:16:20 +00:00)\n"
          ]
        }
      ],
      "source": [
        "positive_impact"
      ]
    },
    {
      "cell_type": "code",
      "source": [
        "negative_impact"
      ],
      "metadata": {
        "colab": {
          "base_uri": "https://localhost:8080/",
          "height": 161
        },
        "id": "jg0CGstTjzw4",
        "outputId": "b47e6f3a-93df-46b0-a736-286c44558241"
      },
      "id": "jg0CGstTjzw4",
      "execution_count": null,
      "outputs": [
        {
          "output_type": "execute_result",
          "data": {
            "text/plain": [
              "  ('Create Fine', 'Insert Date Appeal to Prefecture')_precedence             \\\n",
              "                                                           value       mean   \n",
              "0                                                  0               3.132419   \n",
              "1                                                  1             -60.412766   \n",
              "\n",
              "                     \n",
              "   count     impact  \n",
              "0  20453   3.845070  \n",
              "1   4188 -74.157166  "
            ],
            "text/html": [
              "\n",
              "  <div id=\"df-d9592aa1-95c0-40f3-8f9e-255531689f09\">\n",
              "    <div class=\"colab-df-container\">\n",
              "      <div>\n",
              "<style scoped>\n",
              "    .dataframe tbody tr th:only-of-type {\n",
              "        vertical-align: middle;\n",
              "    }\n",
              "\n",
              "    .dataframe tbody tr th {\n",
              "        vertical-align: top;\n",
              "    }\n",
              "\n",
              "    .dataframe thead tr th {\n",
              "        text-align: left;\n",
              "    }\n",
              "</style>\n",
              "<table border=\"1\" class=\"dataframe\">\n",
              "  <thead>\n",
              "    <tr>\n",
              "      <th></th>\n",
              "      <th colspan=\"4\" halign=\"left\">('Create Fine', 'Insert Date Appeal to Prefecture')_precedence</th>\n",
              "    </tr>\n",
              "    <tr>\n",
              "      <th></th>\n",
              "      <th>value</th>\n",
              "      <th>mean</th>\n",
              "      <th>count</th>\n",
              "      <th>impact</th>\n",
              "    </tr>\n",
              "  </thead>\n",
              "  <tbody>\n",
              "    <tr>\n",
              "      <th>0</th>\n",
              "      <td>0</td>\n",
              "      <td>3.132419</td>\n",
              "      <td>20453</td>\n",
              "      <td>3.845070</td>\n",
              "    </tr>\n",
              "    <tr>\n",
              "      <th>1</th>\n",
              "      <td>1</td>\n",
              "      <td>-60.412766</td>\n",
              "      <td>4188</td>\n",
              "      <td>-74.157166</td>\n",
              "    </tr>\n",
              "  </tbody>\n",
              "</table>\n",
              "</div>\n",
              "      <button class=\"colab-df-convert\" onclick=\"convertToInteractive('df-d9592aa1-95c0-40f3-8f9e-255531689f09')\"\n",
              "              title=\"Convert this dataframe to an interactive table.\"\n",
              "              style=\"display:none;\">\n",
              "        \n",
              "  <svg xmlns=\"http://www.w3.org/2000/svg\" height=\"24px\"viewBox=\"0 0 24 24\"\n",
              "       width=\"24px\">\n",
              "    <path d=\"M0 0h24v24H0V0z\" fill=\"none\"/>\n",
              "    <path d=\"M18.56 5.44l.94 2.06.94-2.06 2.06-.94-2.06-.94-.94-2.06-.94 2.06-2.06.94zm-11 1L8.5 8.5l.94-2.06 2.06-.94-2.06-.94L8.5 2.5l-.94 2.06-2.06.94zm10 10l.94 2.06.94-2.06 2.06-.94-2.06-.94-.94-2.06-.94 2.06-2.06.94z\"/><path d=\"M17.41 7.96l-1.37-1.37c-.4-.4-.92-.59-1.43-.59-.52 0-1.04.2-1.43.59L10.3 9.45l-7.72 7.72c-.78.78-.78 2.05 0 2.83L4 21.41c.39.39.9.59 1.41.59.51 0 1.02-.2 1.41-.59l7.78-7.78 2.81-2.81c.8-.78.8-2.07 0-2.86zM5.41 20L4 18.59l7.72-7.72 1.47 1.35L5.41 20z\"/>\n",
              "  </svg>\n",
              "      </button>\n",
              "      \n",
              "  <style>\n",
              "    .colab-df-container {\n",
              "      display:flex;\n",
              "      flex-wrap:wrap;\n",
              "      gap: 12px;\n",
              "    }\n",
              "\n",
              "    .colab-df-convert {\n",
              "      background-color: #E8F0FE;\n",
              "      border: none;\n",
              "      border-radius: 50%;\n",
              "      cursor: pointer;\n",
              "      display: none;\n",
              "      fill: #1967D2;\n",
              "      height: 32px;\n",
              "      padding: 0 0 0 0;\n",
              "      width: 32px;\n",
              "    }\n",
              "\n",
              "    .colab-df-convert:hover {\n",
              "      background-color: #E2EBFA;\n",
              "      box-shadow: 0px 1px 2px rgba(60, 64, 67, 0.3), 0px 1px 3px 1px rgba(60, 64, 67, 0.15);\n",
              "      fill: #174EA6;\n",
              "    }\n",
              "\n",
              "    [theme=dark] .colab-df-convert {\n",
              "      background-color: #3B4455;\n",
              "      fill: #D2E3FC;\n",
              "    }\n",
              "\n",
              "    [theme=dark] .colab-df-convert:hover {\n",
              "      background-color: #434B5C;\n",
              "      box-shadow: 0px 1px 3px 1px rgba(0, 0, 0, 0.15);\n",
              "      filter: drop-shadow(0px 1px 2px rgba(0, 0, 0, 0.3));\n",
              "      fill: #FFFFFF;\n",
              "    }\n",
              "  </style>\n",
              "\n",
              "      <script>\n",
              "        const buttonEl =\n",
              "          document.querySelector('#df-d9592aa1-95c0-40f3-8f9e-255531689f09 button.colab-df-convert');\n",
              "        buttonEl.style.display =\n",
              "          google.colab.kernel.accessAllowed ? 'block' : 'none';\n",
              "\n",
              "        async function convertToInteractive(key) {\n",
              "          const element = document.querySelector('#df-d9592aa1-95c0-40f3-8f9e-255531689f09');\n",
              "          const dataTable =\n",
              "            await google.colab.kernel.invokeFunction('convertToInteractive',\n",
              "                                                     [key], {});\n",
              "          if (!dataTable) return;\n",
              "\n",
              "          const docLinkHtml = 'Like what you see? Visit the ' +\n",
              "            '<a target=\"_blank\" href=https://colab.research.google.com/notebooks/data_table.ipynb>data table notebook</a>'\n",
              "            + ' to learn more about interactive tables.';\n",
              "          element.innerHTML = '';\n",
              "          dataTable['output_type'] = 'display_data';\n",
              "          await google.colab.output.renderOutput(dataTable, element);\n",
              "          const docLink = document.createElement('div');\n",
              "          docLink.innerHTML = docLinkHtml;\n",
              "          element.appendChild(docLink);\n",
              "        }\n",
              "      </script>\n",
              "    </div>\n",
              "  </div>\n",
              "  "
            ]
          },
          "metadata": {},
          "execution_count": 57
        },
        {
          "output_type": "stream",
          "name": "stdout",
          "text": [
            "time: 9.89 ms (started: 2022-03-24 08:16:21 +00:00)\n"
          ]
        }
      ]
    },
    {
      "cell_type": "code",
      "execution_count": null,
      "id": "912336fe",
      "metadata": {
        "ExecuteTime": {
          "end_time": "2022-03-09T09:25:55.349110Z",
          "start_time": "2022-03-09T09:25:55.334892Z"
        },
        "colab": {
          "base_uri": "https://localhost:8080/"
        },
        "id": "912336fe",
        "outputId": "1ceae0d5-5350-4452-c71e-0241e320a863"
      },
      "outputs": [
        {
          "output_type": "stream",
          "name": "stdout",
          "text": [
            "('Add penalty', 'Payment')_response\n",
            "95.71712581652939\n",
            "45.807276861853325\n",
            "7036\n",
            "('Add penalty', 'Payment')_precedence\n",
            "94.70884459890773\n",
            "63.7545057863783\n",
            "10542\n",
            "('Send Fine', 'Payment')_response\n",
            "96.2827953379059\n",
            "0.0\n",
            "3792\n",
            "time: 35.2 ms (started: 2022-03-24 08:17:24 +00:00)\n"
          ]
        }
      ],
      "source": [
        "for constraint in list(set(positive_impact.columns.get_level_values(0))):\n",
        "    print(constraint)\n",
        "    constraint_indx = declare_df_boolean_non_zero[declare_df_boolean_non_zero[constraint]==1].index\n",
        "    print((sum(target.iloc[constraint_indx,0])/len(constraint_indx))*100)\n",
        "    constraint_indx = declare_df_boolean_non_zero[declare_df_boolean_non_zero[constraint]==0].index\n",
        "    print((sum(target.iloc[constraint_indx,0])/len(constraint_indx))*100)\n",
        "    print(len(constraint_indx))\n",
        "\n"
      ]
    },
    {
      "cell_type": "code",
      "source": [
        "negative_impact"
      ],
      "metadata": {
        "colab": {
          "base_uri": "https://localhost:8080/",
          "height": 161
        },
        "id": "pdFekpT_D7Cl",
        "outputId": "30671671-3cf6-43fc-c785-a52eea258821"
      },
      "id": "pdFekpT_D7Cl",
      "execution_count": null,
      "outputs": [
        {
          "output_type": "execute_result",
          "data": {
            "text/plain": [
              "  ('Create Fine', 'Insert Date Appeal to Prefecture')_precedence             \\\n",
              "                                                           value       mean   \n",
              "0                                                  0               3.132419   \n",
              "1                                                  1             -60.412766   \n",
              "\n",
              "                     \n",
              "   count     impact  \n",
              "0  20453   3.845070  \n",
              "1   4188 -74.157166  "
            ],
            "text/html": [
              "\n",
              "  <div id=\"df-be9796d1-0702-497a-90e9-b066b5b30d73\">\n",
              "    <div class=\"colab-df-container\">\n",
              "      <div>\n",
              "<style scoped>\n",
              "    .dataframe tbody tr th:only-of-type {\n",
              "        vertical-align: middle;\n",
              "    }\n",
              "\n",
              "    .dataframe tbody tr th {\n",
              "        vertical-align: top;\n",
              "    }\n",
              "\n",
              "    .dataframe thead tr th {\n",
              "        text-align: left;\n",
              "    }\n",
              "</style>\n",
              "<table border=\"1\" class=\"dataframe\">\n",
              "  <thead>\n",
              "    <tr>\n",
              "      <th></th>\n",
              "      <th colspan=\"4\" halign=\"left\">('Create Fine', 'Insert Date Appeal to Prefecture')_precedence</th>\n",
              "    </tr>\n",
              "    <tr>\n",
              "      <th></th>\n",
              "      <th>value</th>\n",
              "      <th>mean</th>\n",
              "      <th>count</th>\n",
              "      <th>impact</th>\n",
              "    </tr>\n",
              "  </thead>\n",
              "  <tbody>\n",
              "    <tr>\n",
              "      <th>0</th>\n",
              "      <td>0</td>\n",
              "      <td>3.132419</td>\n",
              "      <td>20453</td>\n",
              "      <td>3.845070</td>\n",
              "    </tr>\n",
              "    <tr>\n",
              "      <th>1</th>\n",
              "      <td>1</td>\n",
              "      <td>-60.412766</td>\n",
              "      <td>4188</td>\n",
              "      <td>-74.157166</td>\n",
              "    </tr>\n",
              "  </tbody>\n",
              "</table>\n",
              "</div>\n",
              "      <button class=\"colab-df-convert\" onclick=\"convertToInteractive('df-be9796d1-0702-497a-90e9-b066b5b30d73')\"\n",
              "              title=\"Convert this dataframe to an interactive table.\"\n",
              "              style=\"display:none;\">\n",
              "        \n",
              "  <svg xmlns=\"http://www.w3.org/2000/svg\" height=\"24px\"viewBox=\"0 0 24 24\"\n",
              "       width=\"24px\">\n",
              "    <path d=\"M0 0h24v24H0V0z\" fill=\"none\"/>\n",
              "    <path d=\"M18.56 5.44l.94 2.06.94-2.06 2.06-.94-2.06-.94-.94-2.06-.94 2.06-2.06.94zm-11 1L8.5 8.5l.94-2.06 2.06-.94-2.06-.94L8.5 2.5l-.94 2.06-2.06.94zm10 10l.94 2.06.94-2.06 2.06-.94-2.06-.94-.94-2.06-.94 2.06-2.06.94z\"/><path d=\"M17.41 7.96l-1.37-1.37c-.4-.4-.92-.59-1.43-.59-.52 0-1.04.2-1.43.59L10.3 9.45l-7.72 7.72c-.78.78-.78 2.05 0 2.83L4 21.41c.39.39.9.59 1.41.59.51 0 1.02-.2 1.41-.59l7.78-7.78 2.81-2.81c.8-.78.8-2.07 0-2.86zM5.41 20L4 18.59l7.72-7.72 1.47 1.35L5.41 20z\"/>\n",
              "  </svg>\n",
              "      </button>\n",
              "      \n",
              "  <style>\n",
              "    .colab-df-container {\n",
              "      display:flex;\n",
              "      flex-wrap:wrap;\n",
              "      gap: 12px;\n",
              "    }\n",
              "\n",
              "    .colab-df-convert {\n",
              "      background-color: #E8F0FE;\n",
              "      border: none;\n",
              "      border-radius: 50%;\n",
              "      cursor: pointer;\n",
              "      display: none;\n",
              "      fill: #1967D2;\n",
              "      height: 32px;\n",
              "      padding: 0 0 0 0;\n",
              "      width: 32px;\n",
              "    }\n",
              "\n",
              "    .colab-df-convert:hover {\n",
              "      background-color: #E2EBFA;\n",
              "      box-shadow: 0px 1px 2px rgba(60, 64, 67, 0.3), 0px 1px 3px 1px rgba(60, 64, 67, 0.15);\n",
              "      fill: #174EA6;\n",
              "    }\n",
              "\n",
              "    [theme=dark] .colab-df-convert {\n",
              "      background-color: #3B4455;\n",
              "      fill: #D2E3FC;\n",
              "    }\n",
              "\n",
              "    [theme=dark] .colab-df-convert:hover {\n",
              "      background-color: #434B5C;\n",
              "      box-shadow: 0px 1px 3px 1px rgba(0, 0, 0, 0.15);\n",
              "      filter: drop-shadow(0px 1px 2px rgba(0, 0, 0, 0.3));\n",
              "      fill: #FFFFFF;\n",
              "    }\n",
              "  </style>\n",
              "\n",
              "      <script>\n",
              "        const buttonEl =\n",
              "          document.querySelector('#df-be9796d1-0702-497a-90e9-b066b5b30d73 button.colab-df-convert');\n",
              "        buttonEl.style.display =\n",
              "          google.colab.kernel.accessAllowed ? 'block' : 'none';\n",
              "\n",
              "        async function convertToInteractive(key) {\n",
              "          const element = document.querySelector('#df-be9796d1-0702-497a-90e9-b066b5b30d73');\n",
              "          const dataTable =\n",
              "            await google.colab.kernel.invokeFunction('convertToInteractive',\n",
              "                                                     [key], {});\n",
              "          if (!dataTable) return;\n",
              "\n",
              "          const docLinkHtml = 'Like what you see? Visit the ' +\n",
              "            '<a target=\"_blank\" href=https://colab.research.google.com/notebooks/data_table.ipynb>data table notebook</a>'\n",
              "            + ' to learn more about interactive tables.';\n",
              "          element.innerHTML = '';\n",
              "          dataTable['output_type'] = 'display_data';\n",
              "          await google.colab.output.renderOutput(dataTable, element);\n",
              "          const docLink = document.createElement('div');\n",
              "          docLink.innerHTML = docLinkHtml;\n",
              "          element.appendChild(docLink);\n",
              "        }\n",
              "      </script>\n",
              "    </div>\n",
              "  </div>\n",
              "  "
            ]
          },
          "metadata": {},
          "execution_count": 59
        },
        {
          "output_type": "stream",
          "name": "stdout",
          "text": [
            "time: 13.6 ms (started: 2022-03-24 08:17:57 +00:00)\n"
          ]
        }
      ]
    },
    {
      "cell_type": "code",
      "execution_count": null,
      "id": "2052f059",
      "metadata": {
        "ExecuteTime": {
          "end_time": "2022-03-09T09:25:58.064833Z",
          "start_time": "2022-03-09T09:25:58.052829Z"
        },
        "colab": {
          "base_uri": "https://localhost:8080/"
        },
        "id": "2052f059",
        "outputId": "76cab9c1-9d47-4919-bc9d-96ce8e7ff953"
      },
      "outputs": [
        {
          "output_type": "stream",
          "name": "stdout",
          "text": [
            "('Create Fine', 'Insert Date Appeal to Prefecture')_precedence\n",
            "98.14697110448346\n",
            "0.0\n",
            "4188\n",
            "time: 17.5 ms (started: 2022-03-24 08:17:59 +00:00)\n"
          ]
        }
      ],
      "source": [
        "for constraint in list(set(negative_impact.columns.get_level_values(0))):\n",
        "    print(constraint)\n",
        "    constraint_indx = declare_df_boolean_non_zero[declare_df_boolean_non_zero[constraint]==0].index\n",
        "    print((sum(target.iloc[constraint_indx,0])/len(constraint_indx))*100)\n",
        "    constraint_indx = declare_df_boolean_non_zero[declare_df_boolean_non_zero[constraint]==1].index\n",
        "    print((sum(target.iloc[constraint_indx,0])/len(constraint_indx))*100)\n",
        "    print(len(constraint_indx))\n"
      ]
    },
    {
      "cell_type": "code",
      "source": [
        ""
      ],
      "metadata": {
        "id": "l4yX1JrEYy_c"
      },
      "id": "l4yX1JrEYy_c",
      "execution_count": null,
      "outputs": []
    }
  ],
  "metadata": {
    "finalized": {
      "timestamp": 1646410230414,
      "trusted": true
    },
    "kernelspec": {
      "display_name": "python3.8",
      "language": "python",
      "name": "python3.8"
    },
    "language_info": {
      "codemirror_mode": {
        "name": "ipython",
        "version": 3
      },
      "file_extension": ".py",
      "mimetype": "text/x-python",
      "name": "python",
      "nbconvert_exporter": "python",
      "pygments_lexer": "ipython3",
      "version": "3.8.9"
    },
    "colab": {
      "name": "xgboost appeal_new_Definition_model-eval.ipynb",
      "provenance": [],
      "collapsed_sections": []
    },
    "widgets": {
      "application/vnd.jupyter.widget-state+json": {
        "7fbee128837a4ee9a94bbc56f8c4cf2f": {
          "model_module": "@jupyter-widgets/controls",
          "model_name": "HBoxModel",
          "model_module_version": "1.5.0",
          "state": {
            "_dom_classes": [],
            "_model_module": "@jupyter-widgets/controls",
            "_model_module_version": "1.5.0",
            "_model_name": "HBoxModel",
            "_view_count": null,
            "_view_module": "@jupyter-widgets/controls",
            "_view_module_version": "1.5.0",
            "_view_name": "HBoxView",
            "box_style": "",
            "children": [
              "IPY_MODEL_16b77b694f1e4aa6a10bcbaa9f8e1eb5",
              "IPY_MODEL_79da8d08a357403c81a5e6dfe8f2531b",
              "IPY_MODEL_7a3037c7049e4ed59b912af08755fa8f"
            ],
            "layout": "IPY_MODEL_46ce31d8af904b499d12be8927740e51"
          }
        },
        "16b77b694f1e4aa6a10bcbaa9f8e1eb5": {
          "model_module": "@jupyter-widgets/controls",
          "model_name": "HTMLModel",
          "model_module_version": "1.5.0",
          "state": {
            "_dom_classes": [],
            "_model_module": "@jupyter-widgets/controls",
            "_model_module_version": "1.5.0",
            "_model_name": "HTMLModel",
            "_view_count": null,
            "_view_module": "@jupyter-widgets/controls",
            "_view_module_version": "1.5.0",
            "_view_name": "HTMLView",
            "description": "",
            "description_tooltip": null,
            "layout": "IPY_MODEL_814e6e1f31fa4920a33415e7c88a888f",
            "placeholder": "​",
            "style": "IPY_MODEL_5bede69077304f7c926ce81cd3f5792b",
            "value": "parsing log, completed traces :: 100%"
          }
        },
        "79da8d08a357403c81a5e6dfe8f2531b": {
          "model_module": "@jupyter-widgets/controls",
          "model_name": "FloatProgressModel",
          "model_module_version": "1.5.0",
          "state": {
            "_dom_classes": [],
            "_model_module": "@jupyter-widgets/controls",
            "_model_module_version": "1.5.0",
            "_model_name": "FloatProgressModel",
            "_view_count": null,
            "_view_module": "@jupyter-widgets/controls",
            "_view_module_version": "1.5.0",
            "_view_name": "ProgressView",
            "bar_style": "success",
            "description": "",
            "description_tooltip": null,
            "layout": "IPY_MODEL_ab2f9fd8c4ec43c7a2049af6dad5d3c9",
            "max": 24641,
            "min": 0,
            "orientation": "horizontal",
            "style": "IPY_MODEL_4b3ec487e6c041b39a6c37b6081b8114",
            "value": 24641
          }
        },
        "7a3037c7049e4ed59b912af08755fa8f": {
          "model_module": "@jupyter-widgets/controls",
          "model_name": "HTMLModel",
          "model_module_version": "1.5.0",
          "state": {
            "_dom_classes": [],
            "_model_module": "@jupyter-widgets/controls",
            "_model_module_version": "1.5.0",
            "_model_name": "HTMLModel",
            "_view_count": null,
            "_view_module": "@jupyter-widgets/controls",
            "_view_module_version": "1.5.0",
            "_view_name": "HTMLView",
            "description": "",
            "description_tooltip": null,
            "layout": "IPY_MODEL_6f458c09d53e46e7ab6833629f82f23f",
            "placeholder": "​",
            "style": "IPY_MODEL_82c94992421846f6b7568f193ee4603f",
            "value": " 24641/24641 [00:22&lt;00:00, 1998.32it/s]"
          }
        },
        "46ce31d8af904b499d12be8927740e51": {
          "model_module": "@jupyter-widgets/base",
          "model_name": "LayoutModel",
          "model_module_version": "1.2.0",
          "state": {
            "_model_module": "@jupyter-widgets/base",
            "_model_module_version": "1.2.0",
            "_model_name": "LayoutModel",
            "_view_count": null,
            "_view_module": "@jupyter-widgets/base",
            "_view_module_version": "1.2.0",
            "_view_name": "LayoutView",
            "align_content": null,
            "align_items": null,
            "align_self": null,
            "border": null,
            "bottom": null,
            "display": null,
            "flex": null,
            "flex_flow": null,
            "grid_area": null,
            "grid_auto_columns": null,
            "grid_auto_flow": null,
            "grid_auto_rows": null,
            "grid_column": null,
            "grid_gap": null,
            "grid_row": null,
            "grid_template_areas": null,
            "grid_template_columns": null,
            "grid_template_rows": null,
            "height": null,
            "justify_content": null,
            "justify_items": null,
            "left": null,
            "margin": null,
            "max_height": null,
            "max_width": null,
            "min_height": null,
            "min_width": null,
            "object_fit": null,
            "object_position": null,
            "order": null,
            "overflow": null,
            "overflow_x": null,
            "overflow_y": null,
            "padding": null,
            "right": null,
            "top": null,
            "visibility": null,
            "width": null
          }
        },
        "814e6e1f31fa4920a33415e7c88a888f": {
          "model_module": "@jupyter-widgets/base",
          "model_name": "LayoutModel",
          "model_module_version": "1.2.0",
          "state": {
            "_model_module": "@jupyter-widgets/base",
            "_model_module_version": "1.2.0",
            "_model_name": "LayoutModel",
            "_view_count": null,
            "_view_module": "@jupyter-widgets/base",
            "_view_module_version": "1.2.0",
            "_view_name": "LayoutView",
            "align_content": null,
            "align_items": null,
            "align_self": null,
            "border": null,
            "bottom": null,
            "display": null,
            "flex": null,
            "flex_flow": null,
            "grid_area": null,
            "grid_auto_columns": null,
            "grid_auto_flow": null,
            "grid_auto_rows": null,
            "grid_column": null,
            "grid_gap": null,
            "grid_row": null,
            "grid_template_areas": null,
            "grid_template_columns": null,
            "grid_template_rows": null,
            "height": null,
            "justify_content": null,
            "justify_items": null,
            "left": null,
            "margin": null,
            "max_height": null,
            "max_width": null,
            "min_height": null,
            "min_width": null,
            "object_fit": null,
            "object_position": null,
            "order": null,
            "overflow": null,
            "overflow_x": null,
            "overflow_y": null,
            "padding": null,
            "right": null,
            "top": null,
            "visibility": null,
            "width": null
          }
        },
        "5bede69077304f7c926ce81cd3f5792b": {
          "model_module": "@jupyter-widgets/controls",
          "model_name": "DescriptionStyleModel",
          "model_module_version": "1.5.0",
          "state": {
            "_model_module": "@jupyter-widgets/controls",
            "_model_module_version": "1.5.0",
            "_model_name": "DescriptionStyleModel",
            "_view_count": null,
            "_view_module": "@jupyter-widgets/base",
            "_view_module_version": "1.2.0",
            "_view_name": "StyleView",
            "description_width": ""
          }
        },
        "ab2f9fd8c4ec43c7a2049af6dad5d3c9": {
          "model_module": "@jupyter-widgets/base",
          "model_name": "LayoutModel",
          "model_module_version": "1.2.0",
          "state": {
            "_model_module": "@jupyter-widgets/base",
            "_model_module_version": "1.2.0",
            "_model_name": "LayoutModel",
            "_view_count": null,
            "_view_module": "@jupyter-widgets/base",
            "_view_module_version": "1.2.0",
            "_view_name": "LayoutView",
            "align_content": null,
            "align_items": null,
            "align_self": null,
            "border": null,
            "bottom": null,
            "display": null,
            "flex": null,
            "flex_flow": null,
            "grid_area": null,
            "grid_auto_columns": null,
            "grid_auto_flow": null,
            "grid_auto_rows": null,
            "grid_column": null,
            "grid_gap": null,
            "grid_row": null,
            "grid_template_areas": null,
            "grid_template_columns": null,
            "grid_template_rows": null,
            "height": null,
            "justify_content": null,
            "justify_items": null,
            "left": null,
            "margin": null,
            "max_height": null,
            "max_width": null,
            "min_height": null,
            "min_width": null,
            "object_fit": null,
            "object_position": null,
            "order": null,
            "overflow": null,
            "overflow_x": null,
            "overflow_y": null,
            "padding": null,
            "right": null,
            "top": null,
            "visibility": null,
            "width": null
          }
        },
        "4b3ec487e6c041b39a6c37b6081b8114": {
          "model_module": "@jupyter-widgets/controls",
          "model_name": "ProgressStyleModel",
          "model_module_version": "1.5.0",
          "state": {
            "_model_module": "@jupyter-widgets/controls",
            "_model_module_version": "1.5.0",
            "_model_name": "ProgressStyleModel",
            "_view_count": null,
            "_view_module": "@jupyter-widgets/base",
            "_view_module_version": "1.2.0",
            "_view_name": "StyleView",
            "bar_color": null,
            "description_width": ""
          }
        },
        "6f458c09d53e46e7ab6833629f82f23f": {
          "model_module": "@jupyter-widgets/base",
          "model_name": "LayoutModel",
          "model_module_version": "1.2.0",
          "state": {
            "_model_module": "@jupyter-widgets/base",
            "_model_module_version": "1.2.0",
            "_model_name": "LayoutModel",
            "_view_count": null,
            "_view_module": "@jupyter-widgets/base",
            "_view_module_version": "1.2.0",
            "_view_name": "LayoutView",
            "align_content": null,
            "align_items": null,
            "align_self": null,
            "border": null,
            "bottom": null,
            "display": null,
            "flex": null,
            "flex_flow": null,
            "grid_area": null,
            "grid_auto_columns": null,
            "grid_auto_flow": null,
            "grid_auto_rows": null,
            "grid_column": null,
            "grid_gap": null,
            "grid_row": null,
            "grid_template_areas": null,
            "grid_template_columns": null,
            "grid_template_rows": null,
            "height": null,
            "justify_content": null,
            "justify_items": null,
            "left": null,
            "margin": null,
            "max_height": null,
            "max_width": null,
            "min_height": null,
            "min_width": null,
            "object_fit": null,
            "object_position": null,
            "order": null,
            "overflow": null,
            "overflow_x": null,
            "overflow_y": null,
            "padding": null,
            "right": null,
            "top": null,
            "visibility": null,
            "width": null
          }
        },
        "82c94992421846f6b7568f193ee4603f": {
          "model_module": "@jupyter-widgets/controls",
          "model_name": "DescriptionStyleModel",
          "model_module_version": "1.5.0",
          "state": {
            "_model_module": "@jupyter-widgets/controls",
            "_model_module_version": "1.5.0",
            "_model_name": "DescriptionStyleModel",
            "_view_count": null,
            "_view_module": "@jupyter-widgets/base",
            "_view_module_version": "1.2.0",
            "_view_name": "StyleView",
            "description_width": ""
          }
        }
      }
    }
  },
  "nbformat": 4,
  "nbformat_minor": 5
}